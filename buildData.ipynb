{
 "cells": [
  {
   "cell_type": "markdown",
   "metadata": {},
   "source": [
    "# SEIRS model with Cost Analysis"
   ]
  },
  {
   "cell_type": "markdown",
   "metadata": {},
   "source": [
    "### TODOS:\n",
    "\n",
    "* Update Betas in list based on infection chance of the occupation"
   ]
  },
  {
   "cell_type": "markdown",
   "metadata": {},
   "source": [
    "## 0. File Setup\n",
    "Start here if `worker_data_final.pickle` is not in the file system"
   ]
  },
  {
   "cell_type": "code",
   "execution_count": 1,
   "metadata": {},
   "outputs": [],
   "source": [
    "import pandas as pd\n",
    "from seirsplus.models import *\n",
    "import networkx\n",
    "import pickle"
   ]
  },
  {
   "cell_type": "code",
   "execution_count": 2,
   "metadata": {},
   "outputs": [
    {
     "ename": "ImportError",
     "evalue": "Missing optional dependency 'xlrd'. Install xlrd >= 1.0.0 for Excel support Use pip or conda to install xlrd.",
     "output_type": "error",
     "traceback": [
      "\u001b[0;31m---------------------------------------------------------------------------\u001b[0m",
      "\u001b[0;31mImportError\u001b[0m                               Traceback (most recent call last)",
      "\u001b[0;32m<ipython-input-2-abc9a73adba1>\u001b[0m in \u001b[0;36m<module>\u001b[0;34m\u001b[0m\n\u001b[1;32m      1\u001b[0m \u001b[0;31m# build pandas dataframe from excel file\u001b[0m\u001b[0;34m\u001b[0m\u001b[0;34m\u001b[0m\u001b[0;34m\u001b[0m\u001b[0m\n\u001b[1;32m      2\u001b[0m \u001b[0mfilePath\u001b[0m \u001b[0;34m=\u001b[0m \u001b[0;34m'Work_Context.xlsx'\u001b[0m\u001b[0;34m\u001b[0m\u001b[0;34m\u001b[0m\u001b[0m\n\u001b[0;32m----> 3\u001b[0;31m \u001b[0mworker_data\u001b[0m \u001b[0;34m=\u001b[0m \u001b[0mpd\u001b[0m\u001b[0;34m.\u001b[0m\u001b[0mread_excel\u001b[0m\u001b[0;34m(\u001b[0m\u001b[0mfilePath\u001b[0m\u001b[0;34m)\u001b[0m\u001b[0;34m\u001b[0m\u001b[0;34m\u001b[0m\u001b[0m\n\u001b[0m\u001b[1;32m      4\u001b[0m \u001b[0;31m# Save file so it does not have to be recompiled\u001b[0m\u001b[0;34m\u001b[0m\u001b[0;34m\u001b[0m\u001b[0;34m\u001b[0m\u001b[0m\n\u001b[1;32m      5\u001b[0m \u001b[0;32mwith\u001b[0m \u001b[0mopen\u001b[0m\u001b[0;34m(\u001b[0m\u001b[0;34m'pickles/worker_data.pickle'\u001b[0m\u001b[0;34m,\u001b[0m \u001b[0;34m'wb'\u001b[0m\u001b[0;34m)\u001b[0m \u001b[0;32mas\u001b[0m \u001b[0mfile\u001b[0m\u001b[0;34m:\u001b[0m\u001b[0;34m\u001b[0m\u001b[0;34m\u001b[0m\u001b[0m\n",
      "\u001b[0;32m/usr/local/lib/python3.7/site-packages/pandas/io/excel/_base.py\u001b[0m in \u001b[0;36mread_excel\u001b[0;34m(io, sheet_name, header, names, index_col, usecols, squeeze, dtype, engine, converters, true_values, false_values, skiprows, nrows, na_values, keep_default_na, verbose, parse_dates, date_parser, thousands, comment, skipfooter, convert_float, mangle_dupe_cols, **kwds)\u001b[0m\n\u001b[1;32m    302\u001b[0m \u001b[0;34m\u001b[0m\u001b[0m\n\u001b[1;32m    303\u001b[0m     \u001b[0;32mif\u001b[0m \u001b[0;32mnot\u001b[0m \u001b[0misinstance\u001b[0m\u001b[0;34m(\u001b[0m\u001b[0mio\u001b[0m\u001b[0;34m,\u001b[0m \u001b[0mExcelFile\u001b[0m\u001b[0;34m)\u001b[0m\u001b[0;34m:\u001b[0m\u001b[0;34m\u001b[0m\u001b[0;34m\u001b[0m\u001b[0m\n\u001b[0;32m--> 304\u001b[0;31m         \u001b[0mio\u001b[0m \u001b[0;34m=\u001b[0m \u001b[0mExcelFile\u001b[0m\u001b[0;34m(\u001b[0m\u001b[0mio\u001b[0m\u001b[0;34m,\u001b[0m \u001b[0mengine\u001b[0m\u001b[0;34m=\u001b[0m\u001b[0mengine\u001b[0m\u001b[0;34m)\u001b[0m\u001b[0;34m\u001b[0m\u001b[0;34m\u001b[0m\u001b[0m\n\u001b[0m\u001b[1;32m    305\u001b[0m     \u001b[0;32melif\u001b[0m \u001b[0mengine\u001b[0m \u001b[0;32mand\u001b[0m \u001b[0mengine\u001b[0m \u001b[0;34m!=\u001b[0m \u001b[0mio\u001b[0m\u001b[0;34m.\u001b[0m\u001b[0mengine\u001b[0m\u001b[0;34m:\u001b[0m\u001b[0;34m\u001b[0m\u001b[0;34m\u001b[0m\u001b[0m\n\u001b[1;32m    306\u001b[0m         raise ValueError(\n",
      "\u001b[0;32m/usr/local/lib/python3.7/site-packages/pandas/io/excel/_base.py\u001b[0m in \u001b[0;36m__init__\u001b[0;34m(self, io, engine)\u001b[0m\n\u001b[1;32m    819\u001b[0m         \u001b[0mself\u001b[0m\u001b[0;34m.\u001b[0m\u001b[0m_io\u001b[0m \u001b[0;34m=\u001b[0m \u001b[0mstringify_path\u001b[0m\u001b[0;34m(\u001b[0m\u001b[0mio\u001b[0m\u001b[0;34m)\u001b[0m\u001b[0;34m\u001b[0m\u001b[0;34m\u001b[0m\u001b[0m\n\u001b[1;32m    820\u001b[0m \u001b[0;34m\u001b[0m\u001b[0m\n\u001b[0;32m--> 821\u001b[0;31m         \u001b[0mself\u001b[0m\u001b[0;34m.\u001b[0m\u001b[0m_reader\u001b[0m \u001b[0;34m=\u001b[0m \u001b[0mself\u001b[0m\u001b[0;34m.\u001b[0m\u001b[0m_engines\u001b[0m\u001b[0;34m[\u001b[0m\u001b[0mengine\u001b[0m\u001b[0;34m]\u001b[0m\u001b[0;34m(\u001b[0m\u001b[0mself\u001b[0m\u001b[0;34m.\u001b[0m\u001b[0m_io\u001b[0m\u001b[0;34m)\u001b[0m\u001b[0;34m\u001b[0m\u001b[0;34m\u001b[0m\u001b[0m\n\u001b[0m\u001b[1;32m    822\u001b[0m \u001b[0;34m\u001b[0m\u001b[0m\n\u001b[1;32m    823\u001b[0m     \u001b[0;32mdef\u001b[0m \u001b[0m__fspath__\u001b[0m\u001b[0;34m(\u001b[0m\u001b[0mself\u001b[0m\u001b[0;34m)\u001b[0m\u001b[0;34m:\u001b[0m\u001b[0;34m\u001b[0m\u001b[0;34m\u001b[0m\u001b[0m\n",
      "\u001b[0;32m/usr/local/lib/python3.7/site-packages/pandas/io/excel/_xlrd.py\u001b[0m in \u001b[0;36m__init__\u001b[0;34m(self, filepath_or_buffer)\u001b[0m\n\u001b[1;32m     18\u001b[0m         \"\"\"\n\u001b[1;32m     19\u001b[0m         \u001b[0merr_msg\u001b[0m \u001b[0;34m=\u001b[0m \u001b[0;34m\"Install xlrd >= 1.0.0 for Excel support\"\u001b[0m\u001b[0;34m\u001b[0m\u001b[0;34m\u001b[0m\u001b[0m\n\u001b[0;32m---> 20\u001b[0;31m         \u001b[0mimport_optional_dependency\u001b[0m\u001b[0;34m(\u001b[0m\u001b[0;34m\"xlrd\"\u001b[0m\u001b[0;34m,\u001b[0m \u001b[0mextra\u001b[0m\u001b[0;34m=\u001b[0m\u001b[0merr_msg\u001b[0m\u001b[0;34m)\u001b[0m\u001b[0;34m\u001b[0m\u001b[0;34m\u001b[0m\u001b[0m\n\u001b[0m\u001b[1;32m     21\u001b[0m         \u001b[0msuper\u001b[0m\u001b[0;34m(\u001b[0m\u001b[0;34m)\u001b[0m\u001b[0;34m.\u001b[0m\u001b[0m__init__\u001b[0m\u001b[0;34m(\u001b[0m\u001b[0mfilepath_or_buffer\u001b[0m\u001b[0;34m)\u001b[0m\u001b[0;34m\u001b[0m\u001b[0;34m\u001b[0m\u001b[0m\n\u001b[1;32m     22\u001b[0m \u001b[0;34m\u001b[0m\u001b[0m\n",
      "\u001b[0;32m/usr/local/lib/python3.7/site-packages/pandas/compat/_optional.py\u001b[0m in \u001b[0;36mimport_optional_dependency\u001b[0;34m(name, extra, raise_on_missing, on_version)\u001b[0m\n\u001b[1;32m     90\u001b[0m     \u001b[0;32mexcept\u001b[0m \u001b[0mImportError\u001b[0m\u001b[0;34m:\u001b[0m\u001b[0;34m\u001b[0m\u001b[0;34m\u001b[0m\u001b[0m\n\u001b[1;32m     91\u001b[0m         \u001b[0;32mif\u001b[0m \u001b[0mraise_on_missing\u001b[0m\u001b[0;34m:\u001b[0m\u001b[0;34m\u001b[0m\u001b[0;34m\u001b[0m\u001b[0m\n\u001b[0;32m---> 92\u001b[0;31m             \u001b[0;32mraise\u001b[0m \u001b[0mImportError\u001b[0m\u001b[0;34m(\u001b[0m\u001b[0mmsg\u001b[0m\u001b[0;34m)\u001b[0m \u001b[0;32mfrom\u001b[0m \u001b[0;32mNone\u001b[0m\u001b[0;34m\u001b[0m\u001b[0;34m\u001b[0m\u001b[0m\n\u001b[0m\u001b[1;32m     93\u001b[0m         \u001b[0;32melse\u001b[0m\u001b[0;34m:\u001b[0m\u001b[0;34m\u001b[0m\u001b[0;34m\u001b[0m\u001b[0m\n\u001b[1;32m     94\u001b[0m             \u001b[0;32mreturn\u001b[0m \u001b[0;32mNone\u001b[0m\u001b[0;34m\u001b[0m\u001b[0;34m\u001b[0m\u001b[0m\n",
      "\u001b[0;31mImportError\u001b[0m: Missing optional dependency 'xlrd'. Install xlrd >= 1.0.0 for Excel support Use pip or conda to install xlrd."
     ]
    }
   ],
   "source": [
    "# build pandas dataframe from excel file\n",
    "filePath = 'Work_Context.xlsx'\n",
    "worker_data = pd.read_excel(filePath)\n",
    "# Save file so it does not have to be recompiled\n",
    "with open('pickles/worker_data.pickle', 'wb') as file:\n",
    "    pickle.dump(worker_data, file)"
   ]
  },
  {
   "cell_type": "code",
   "execution_count": null,
   "metadata": {},
   "outputs": [],
   "source": [
    "filePath = 'national_M2019_dl.xlsx'\n",
    "occupation_data = pd.read_excel(filePath)\n",
    "# Save file so it does not have to be recompiled\n",
    "with open('pickles/occupation_data.pickle', 'wb') as file:\n",
    "    pickle.dump(occupation_data, file)"
   ]
  },
  {
   "cell_type": "markdown",
   "metadata": {},
   "source": [
    "### Start here"
   ]
  },
  {
   "cell_type": "code",
   "execution_count": null,
   "metadata": {},
   "outputs": [],
   "source": [
    "with open('pickles/occupation_data.pickle', 'rb') as file:\n",
    "    occupation_data = pickle.load(file)\n",
    "with open('pickles/worker_data.pickle', 'rb') as file:\n",
    "    worker_data = pickle.load(file)"
   ]
  },
  {
   "cell_type": "markdown",
   "metadata": {},
   "source": [
    "## 1. Parse Data (Dept. of Labor)\n",
    "\n",
    "The Depertment of Labor data contains a whole swath of contextual information about each occupation within its database. The only features were are interested in are the metrics on a job's `Exposed to Disease or Infections` and `Physical Proximity` measures. These can be found in the `worker_data` object in this notebook and here (https://www.onetcenter.org/database.html#individual-files). `Employment` and `Annual Income` can be found in the `occupation_data` object and this website (https://www.bls.gov/oes/current/oes_nat.htm#11-0000)."
   ]
  },
  {
   "cell_type": "code",
   "execution_count": null,
   "metadata": {},
   "outputs": [],
   "source": [
    "\"\"\" WORKER_DATA Filter rows based on relevant characteristics \"\"\"\n",
    "relevant_elements = [\"Exposed to Disease or Infections\", \"Physical Proximity\"]\n",
    "characteristics = worker_data['Element Name']\n",
    "\n",
    "worker_data_filtered = worker_data.loc[\n",
    "    (worker_data['Element Name'].isin(relevant_elements)) # filter on characteristics\n",
    "    & (worker_data['Scale ID'] == 'CX')] # filter on score (out of 5)\n",
    "\n",
    "worker_data_filtered = worker_data_filtered.filter(items=['O*NET-SOC Code','Title', 'Element Name', 'Data Value'])\n",
    "worker_data_filtered[\"O*NET-SOC Code\"] = worker_data_filtered[\"O*NET-SOC Code\"].apply(lambda x: x.split(\".\")[0])"
   ]
  },
  {
   "cell_type": "code",
   "execution_count": null,
   "metadata": {},
   "outputs": [],
   "source": [
    "# Build crosslisting between worker_data and occupation_data based on occ_code\n",
    "occupation_list = worker_data_filtered['O*NET-SOC Code']\n",
    "# Strip CC in AAA-BBBB.CC format of the job identifier in the worker_data Dataframe"
   ]
  },
  {
   "cell_type": "code",
   "execution_count": 3,
   "metadata": {},
   "outputs": [
    {
     "ename": "NameError",
     "evalue": "name 'occupation_data' is not defined",
     "output_type": "error",
     "traceback": [
      "\u001b[0;31m---------------------------------------------------------------------------\u001b[0m",
      "\u001b[0;31mNameError\u001b[0m                                 Traceback (most recent call last)",
      "\u001b[0;32m<ipython-input-3-11b1aa24fbb1>\u001b[0m in \u001b[0;36m<module>\u001b[0;34m\u001b[0m\n\u001b[1;32m      1\u001b[0m \u001b[0;34m\"\"\" OCCUPATION DATA Filter rows based on relevant characteristics \"\"\"\u001b[0m\u001b[0;34m\u001b[0m\u001b[0;34m\u001b[0m\u001b[0m\n\u001b[1;32m      2\u001b[0m \u001b[0;31m# Get population and income data for occupations\u001b[0m\u001b[0;34m\u001b[0m\u001b[0;34m\u001b[0m\u001b[0;34m\u001b[0m\u001b[0m\n\u001b[0;32m----> 3\u001b[0;31m occupation_data_filtered = occupation_data.loc[\n\u001b[0m\u001b[1;32m      4\u001b[0m     (occupation_data['occ_code'].isin(occupation_list))] # filter on characteristics\n\u001b[1;32m      5\u001b[0m \u001b[0;34m\u001b[0m\u001b[0m\n",
      "\u001b[0;31mNameError\u001b[0m: name 'occupation_data' is not defined"
     ]
    }
   ],
   "source": [
    "\"\"\" OCCUPATION DATA Filter rows based on relevant characteristics \"\"\"\n",
    "# Get population and income data for occupations\n",
    "occupation_data_filtered = occupation_data.loc[\n",
    "    (occupation_data['occ_code'].isin(occupation_list))] # filter on characteristics\n",
    "\n",
    "occupation_data_filtered = occupation_data_filtered.filter(items=['occ_code','occ_title','tot_emp','a_mean'])\n",
    "occupation_data_filtered = occupation_data_filtered.rename(columns={'occ_title':'Title', 'tot_emp':'Employment','a_mean':'Annual Income', 'occ_code':'O*NET-SOC Code'})\n",
    "\n",
    "# general_population = occupation_data_filtered.iloc[0][2] # first entry of the Employment column"
   ]
  },
  {
   "cell_type": "code",
   "execution_count": 62,
   "metadata": {},
   "outputs": [
    {
     "data": {
      "text/html": [
       "<div>\n",
       "<style scoped>\n",
       "    .dataframe tbody tr th:only-of-type {\n",
       "        vertical-align: middle;\n",
       "    }\n",
       "\n",
       "    .dataframe tbody tr th {\n",
       "        vertical-align: top;\n",
       "    }\n",
       "\n",
       "    .dataframe thead th {\n",
       "        text-align: right;\n",
       "    }\n",
       "</style>\n",
       "<table border=\"1\" class=\"dataframe\">\n",
       "  <thead>\n",
       "    <tr style=\"text-align: right;\">\n",
       "      <th></th>\n",
       "      <th>O*NET-SOC Code</th>\n",
       "      <th>Title</th>\n",
       "      <th>Employment</th>\n",
       "      <th>Annual Income</th>\n",
       "    </tr>\n",
       "  </thead>\n",
       "  <tbody>\n",
       "    <tr>\n",
       "      <th>4</th>\n",
       "      <td>11-1011</td>\n",
       "      <td>Chief Executives</td>\n",
       "      <td>205890</td>\n",
       "      <td>193850</td>\n",
       "    </tr>\n",
       "    <tr>\n",
       "      <th>6</th>\n",
       "      <td>11-1021</td>\n",
       "      <td>General and Operations Managers</td>\n",
       "      <td>2400280</td>\n",
       "      <td>123030</td>\n",
       "    </tr>\n",
       "    <tr>\n",
       "      <th>11</th>\n",
       "      <td>11-2011</td>\n",
       "      <td>Advertising and Promotions Managers</td>\n",
       "      <td>25100</td>\n",
       "      <td>141890</td>\n",
       "    </tr>\n",
       "    <tr>\n",
       "      <th>13</th>\n",
       "      <td>11-2021</td>\n",
       "      <td>Marketing Managers</td>\n",
       "      <td>263680</td>\n",
       "      <td>149200</td>\n",
       "    </tr>\n",
       "    <tr>\n",
       "      <th>14</th>\n",
       "      <td>11-2022</td>\n",
       "      <td>Sales Managers</td>\n",
       "      <td>402600</td>\n",
       "      <td>141690</td>\n",
       "    </tr>\n",
       "  </tbody>\n",
       "</table>\n",
       "</div>"
      ],
      "text/plain": [
       "   O*NET-SOC Code                                Title  Employment  \\\n",
       "4         11-1011                     Chief Executives      205890   \n",
       "6         11-1021      General and Operations Managers     2400280   \n",
       "11        11-2011  Advertising and Promotions Managers       25100   \n",
       "13        11-2021                   Marketing Managers      263680   \n",
       "14        11-2022                       Sales Managers      402600   \n",
       "\n",
       "   Annual Income  \n",
       "4         193850  \n",
       "6         123030  \n",
       "11        141890  \n",
       "13        149200  \n",
       "14        141690  "
      ]
     },
     "execution_count": 62,
     "metadata": {},
     "output_type": "execute_result"
    }
   ],
   "source": [
    "occupation_data_filtered.head()"
   ]
  },
  {
   "cell_type": "code",
   "execution_count": 33,
   "metadata": {},
   "outputs": [
    {
     "data": {
      "text/html": [
       "<div>\n",
       "<style scoped>\n",
       "    .dataframe tbody tr th:only-of-type {\n",
       "        vertical-align: middle;\n",
       "    }\n",
       "\n",
       "    .dataframe tbody tr th {\n",
       "        vertical-align: top;\n",
       "    }\n",
       "\n",
       "    .dataframe thead th {\n",
       "        text-align: right;\n",
       "    }\n",
       "</style>\n",
       "<table border=\"1\" class=\"dataframe\">\n",
       "  <thead>\n",
       "    <tr style=\"text-align: right;\">\n",
       "      <th></th>\n",
       "      <th>O*NET-SOC Code</th>\n",
       "      <th>Title</th>\n",
       "      <th>Element Name</th>\n",
       "      <th>Data Value</th>\n",
       "    </tr>\n",
       "  </thead>\n",
       "  <tbody>\n",
       "    <tr>\n",
       "      <th>120</th>\n",
       "      <td>11-1011</td>\n",
       "      <td>Chief Executives</td>\n",
       "      <td>Physical Proximity</td>\n",
       "      <td>2.73</td>\n",
       "    </tr>\n",
       "    <tr>\n",
       "      <th>168</th>\n",
       "      <td>11-1011</td>\n",
       "      <td>Chief Executives</td>\n",
       "      <td>Exposed to Disease or Infections</td>\n",
       "      <td>1.72</td>\n",
       "    </tr>\n",
       "    <tr>\n",
       "      <th>458</th>\n",
       "      <td>11-1011</td>\n",
       "      <td>Chief Sustainability Officers</td>\n",
       "      <td>Physical Proximity</td>\n",
       "      <td>2.92</td>\n",
       "    </tr>\n",
       "    <tr>\n",
       "      <th>506</th>\n",
       "      <td>11-1011</td>\n",
       "      <td>Chief Sustainability Officers</td>\n",
       "      <td>Exposed to Disease or Infections</td>\n",
       "      <td>1.12</td>\n",
       "    </tr>\n",
       "    <tr>\n",
       "      <th>796</th>\n",
       "      <td>11-1021</td>\n",
       "      <td>General and Operations Managers</td>\n",
       "      <td>Physical Proximity</td>\n",
       "      <td>3.21</td>\n",
       "    </tr>\n",
       "  </tbody>\n",
       "</table>\n",
       "</div>"
      ],
      "text/plain": [
       "    O*NET-SOC Code                            Title  \\\n",
       "120        11-1011                 Chief Executives   \n",
       "168        11-1011                 Chief Executives   \n",
       "458        11-1011    Chief Sustainability Officers   \n",
       "506        11-1011    Chief Sustainability Officers   \n",
       "796        11-1021  General and Operations Managers   \n",
       "\n",
       "                         Element Name  Data Value  \n",
       "120                Physical Proximity        2.73  \n",
       "168  Exposed to Disease or Infections        1.72  \n",
       "458                Physical Proximity        2.92  \n",
       "506  Exposed to Disease or Infections        1.12  \n",
       "796                Physical Proximity        3.21  "
      ]
     },
     "execution_count": 33,
     "metadata": {},
     "output_type": "execute_result"
    }
   ],
   "source": [
    "worker_data_filtered.head()"
   ]
  },
  {
   "cell_type": "code",
   "execution_count": null,
   "metadata": {},
   "outputs": [],
   "source": [
    "# Only include professions overlap between the 2 tables (1-1)\n",
    "\n",
    "worker_data_filtered.head()\n",
    "# merged_inner = pd.merge(left=survey_sub, right=species_sub, left_on='species_id', right_on='species_id')"
   ]
  },
  {
   "cell_type": "code",
   "execution_count": 55,
   "metadata": {},
   "outputs": [],
   "source": [
    "\"\"\" Reformat Dataframe to include the below features \"\"\"\n",
    "# Title, Context Score 1, Context Score 2\n",
    "dataframes = []\n",
    "for element in relevant_elements:\n",
    "    df = worker_data_filtered.copy()\n",
    "    df = df[characteristics == element]\n",
    "    df = df.drop(columns=['Element Name'])\n",
    "    df = df.rename(columns={'Data Value': element})\n",
    "    dataframes.append(df)\n",
    "\n",
    "from functools import reduce\n",
    "worker_data_final = reduce(lambda df1,df2: pd.merge(df1,df2,on=['Title', 'O*NET-SOC Code'], how='left'), dataframes)\n",
    "\n",
    "# Merge with Population data\n",
    "# worker_data_final = pd.merge(worker_data_final, )\n",
    "worker_data_final = pd.merge(left=worker_data_final, right=occupation_data_filtered, left_on=['Title','O*NET-SOC Code'], right_on=['Title','O*NET-SOC Code'])\n",
    "worker_data_final = worker_data_final.drop(columns=['O*NET-SOC Code'])\n",
    "worker_data_final['Employment'] =  worker_data_final['Employment'].apply(lambda a: int(a)) \n",
    "#  worker_data_final['Annual Income'] = worker_data_final['Annual Income'].apply(lambda a: int(a))\n",
    "worker_data_final.to_csv('worker_final.csv')"
   ]
  },
  {
   "cell_type": "code",
   "execution_count": 13,
   "metadata": {},
   "outputs": [
    {
     "data": {
      "text/plain": [
       "101259780"
      ]
     },
     "execution_count": 13,
     "metadata": {},
     "output_type": "execute_result"
    }
   ],
   "source": [
    "general_population = worker_data_final['Employment'].sum()\n",
    "general_population"
   ]
  },
  {
   "cell_type": "code",
   "execution_count": 7,
   "metadata": {},
   "outputs": [],
   "source": [
    "# Save file so it does not have to be recompiled\n",
    "with open('pickles/worker_data_final.pickle', 'wb') as file:\n",
    "    pickle.dump(worker_data_final, file)"
   ]
  },
  {
   "cell_type": "markdown",
   "metadata": {},
   "source": [
    "## 2. Barabasi-Albert Graph generation\n",
    "\n",
    "Barabasi-Albert Graphs are \n",
    "\n",
    "A unique graph will be generated for each occupation listed by the Department of Labor. The number of nodes (`n`) will be determined by the number of individuals of that occupation in the population. The number of connections within the graph (`m`) will be determined by one's physical proximity to others in the workplace."
   ]
  },
  {
   "cell_type": "code",
   "execution_count": 9,
   "metadata": {},
   "outputs": [],
   "source": [
    "# Open the pickle of the relevant data \n",
    "with open('pickles/worker_data_final.pickle', 'rb') as file:\n",
    "    worker_data_final = pickle.load(file)"
   ]
  },
  {
   "cell_type": "code",
   "execution_count": null,
   "metadata": {},
   "outputs": [],
   "source": []
  },
  {
   "cell_type": "code",
   "execution_count": 4,
   "metadata": {},
   "outputs": [],
   "source": [
    "total_population = 10000\n",
    "avg_interactions_p_day = 17 # (https://www.researchgate.net/figure/Daily-average-number-of-contacts-per-person-in-age-group-j-The-average-number-of_fig2_228649013)\n",
    "\n",
    "# general_population = 155760000 # 155.76 milion employed individuals in the US"
   ]
  },
  {
   "cell_type": "code",
   "execution_count": 11,
   "metadata": {},
   "outputs": [
    {
     "data": {
      "text/html": [
       "<div>\n",
       "<style scoped>\n",
       "    .dataframe tbody tr th:only-of-type {\n",
       "        vertical-align: middle;\n",
       "    }\n",
       "\n",
       "    .dataframe tbody tr th {\n",
       "        vertical-align: top;\n",
       "    }\n",
       "\n",
       "    .dataframe thead th {\n",
       "        text-align: right;\n",
       "    }\n",
       "</style>\n",
       "<table border=\"1\" class=\"dataframe\">\n",
       "  <thead>\n",
       "    <tr style=\"text-align: right;\">\n",
       "      <th></th>\n",
       "      <th>Title</th>\n",
       "      <th>Exposed to Disease or Infections</th>\n",
       "      <th>Physical Proximity</th>\n",
       "      <th>Employment</th>\n",
       "      <th>Annual Income</th>\n",
       "    </tr>\n",
       "  </thead>\n",
       "  <tbody>\n",
       "    <tr>\n",
       "      <th>0</th>\n",
       "      <td>Chief Executives</td>\n",
       "      <td>1.72</td>\n",
       "      <td>2.73</td>\n",
       "      <td>205890</td>\n",
       "      <td>193850</td>\n",
       "    </tr>\n",
       "    <tr>\n",
       "      <th>1</th>\n",
       "      <td>General and Operations Managers</td>\n",
       "      <td>1.56</td>\n",
       "      <td>3.21</td>\n",
       "      <td>2400280</td>\n",
       "      <td>123030</td>\n",
       "    </tr>\n",
       "    <tr>\n",
       "      <th>2</th>\n",
       "      <td>Advertising and Promotions Managers</td>\n",
       "      <td>1.03</td>\n",
       "      <td>2.82</td>\n",
       "      <td>25100</td>\n",
       "      <td>141890</td>\n",
       "    </tr>\n",
       "    <tr>\n",
       "      <th>3</th>\n",
       "      <td>Marketing Managers</td>\n",
       "      <td>1.07</td>\n",
       "      <td>2.89</td>\n",
       "      <td>263680</td>\n",
       "      <td>149200</td>\n",
       "    </tr>\n",
       "    <tr>\n",
       "      <th>4</th>\n",
       "      <td>Sales Managers</td>\n",
       "      <td>1.13</td>\n",
       "      <td>2.91</td>\n",
       "      <td>402600</td>\n",
       "      <td>141690</td>\n",
       "    </tr>\n",
       "  </tbody>\n",
       "</table>\n",
       "</div>"
      ],
      "text/plain": [
       "                                 Title  Exposed to Disease or Infections  \\\n",
       "0                     Chief Executives                              1.72   \n",
       "1      General and Operations Managers                              1.56   \n",
       "2  Advertising and Promotions Managers                              1.03   \n",
       "3                   Marketing Managers                              1.07   \n",
       "4                       Sales Managers                              1.13   \n",
       "\n",
       "   Physical Proximity  Employment Annual Income  \n",
       "0                2.73      205890        193850  \n",
       "1                3.21     2400280        123030  \n",
       "2                2.82       25100        141890  \n",
       "3                2.89      263680        149200  \n",
       "4                2.91      402600        141690  "
      ]
     },
     "execution_count": 11,
     "metadata": {},
     "output_type": "execute_result"
    }
   ],
   "source": [
    "worker_data_final.head()"
   ]
  },
  {
   "cell_type": "code",
   "execution_count": 14,
   "metadata": {
    "tags": [
     "outputPrepend",
     "outputPrepend",
     "outputPrepend",
     "outputPrepend",
     "outputPrepend",
     "outputPrepend",
     "outputPrepend",
     "outputPrepend",
     "outputPrepend",
     "outputPrepend",
     "outputPrepend",
     "outputPrepend",
     "outputPrepend",
     "outputPrepend",
     "outputPrepend",
     "outputPrepend",
     "outputPrepend",
     "outputPrepend",
     "outputPrepend",
     "outputPrepend",
     "outputPrepend",
     "outputPrepend",
     "outputPrepend",
     "outputPrepend",
     "outputPrepend",
     "outputPrepend",
     "outputPrepend",
     "outputPrepend",
     "outputPrepend",
     "outputPrepend",
     "outputPrepend",
     "outputPrepend",
     "outputPrepend",
     "outputPrepend",
     "outputPrepend",
     "outputPrepend",
     "outputPrepend",
     "outputPrepend",
     "outputPrepend",
     "outputPrepend",
     "outputPrepend",
     "outputPrepend",
     "outputPrepend",
     "outputPrepend",
     "outputPrepend",
     "outputPrepend",
     "outputPrepend",
     "outputPrepend",
     "outputPrepend",
     "outputPrepend"
    ]
   },
   "outputs": [],
   "source": [
    "# Build a graph for each occupation \n",
    "\n",
    "# determine 'n' based on population data\n",
    "listOfNodes = [] # a list of all the nodes across all graphs\n",
    "numPasses = 0\n",
    "for _, row in worker_data_final.iterrows():\n",
    "    title        = row['Title']\n",
    "    numNodes     = int((row['Employment'] / general_population)*total_population)\n",
    "    interaction  = int(row['Physical Proximity']) # TODO: Determine an effective scaling factor -> range(0, 5)\n",
    "    # print(numNodes, interaction)\n",
    "    if numNodes <= interaction:\n",
    "        continue\n",
    "    baseGraph    = networkx.barabasi_albert_graph(n=numNodes, m=interaction)\n",
    "    for node in baseGraph.nodes:\n",
    "        listOfNodes.append((title, len([n for n in baseGraph[node]])))\n",
    "    numPasses+=1\n",
    "    # print(numPasses)"
   ]
  },
  {
   "cell_type": "code",
   "execution_count": 15,
   "metadata": {},
   "outputs": [
    {
     "data": {
      "text/plain": [
       "9441"
      ]
     },
     "execution_count": 15,
     "metadata": {},
     "output_type": "execute_result"
    }
   ],
   "source": [
    "len(listOfNodes)"
   ]
  },
  {
   "cell_type": "markdown",
   "metadata": {},
   "source": [
    "## 3. Merging Barabasi-Albert Graphs\n",
    "\n",
    "This mechanism of merging the Barabasi Graphs of different occupations follows the research here (https://www.researchgate.net/publication/271200973_On_Merging_and_Dividing_of_Barabasi-Albert-Graphs)\n",
    "\n",
    "Below is an implementation of the `Node-Degree-Order Merge` which runs in `O(n*log(n))`.\n",
    "\n",
    "This method orders the nodes by the number of connections they contain across all of the graphs being merged. A new graph is then developed using the Barabasi-Albert model by inserting these nodes in order. The analogy this paper uses to this scenario is like a \"student graduating from school and going to university\". In our model, the number of connections is directly correlated with the physical proximity to others. This merging technique is a mechanism to more effectively scale the physical proximity metric proportionally across occupations. The \"graduation\" can be considered a transition of popularity (in one's number of interactions) from within an occupation, to a larger population.\n",
    "\n",
    "The aggregate Barabsi-Albert graph will have parameters reflecting the total population. The number of nodes (`n`) will be the total population relative to the populations of each occupation. The number of connections per iteration (`m`) will be relative to the average number of interactions a given individual will have in a day. Nodes are 0 indexed within `listOfNodes`, so each individual (and their occupation) is easy to track within the system."
   ]
  },
  {
   "cell_type": "code",
   "execution_count": 1,
   "metadata": {},
   "outputs": [],
   "source": [
    "# listOfNodes"
   ]
  },
  {
   "cell_type": "code",
   "execution_count": 6,
   "metadata": {},
   "outputs": [
    {
     "data": {
      "text/plain": [
       "' listOfNodes and full_graph.nodes has a 1-1 translation '"
      ]
     },
     "execution_count": 6,
     "metadata": {},
     "output_type": "execute_result"
    }
   ],
   "source": [
    "listOfNodes.sort(key=lambda x: x[1], reverse=True) # list of Nodes in descending order, sorted by number of connections\n",
    "\n",
    "full_graph    = networkx.barabasi_albert_graph(n=len(listOfNodes), m=avg_interactions_p_day)\n",
    "\"\"\" listOfNodes and full_graph.nodes has a 1-1 translation \"\"\""
   ]
  },
  {
   "cell_type": "code",
   "execution_count": 131,
   "metadata": {},
   "outputs": [],
   "source": [
    "with open('pickles/barabasiMerge.pickle', \"wb\") as file:\n",
    "    pickle.dump(full_graph, file)\n",
    "with open('pickles/listOfNodes.pickle', \"wb\") as file:\n",
    "    pickle.dump(listOfNodes, file)"
   ]
  },
  {
   "cell_type": "markdown",
   "metadata": {},
   "source": [
    "## 4. Integration with SEIRS\n",
    "\n",
    "One factor that we have not taken into account yet is the exposure that one has to the disease (Covid-19). Within the SEIRS model, this directly corresponds to the `beta` or `rate of transmission` parameter. We can map a rate of transmission to each node in our Barabasi graph and dynamically modify them in simulations in future sections."
   ]
  },
  {
   "cell_type": "code",
   "execution_count": 54,
   "metadata": {},
   "outputs": [],
   "source": [
    "with open('pickles/listOfNodes.pickle', \"rb\") as file:\n",
    "    listOfNodes = pickle.load(file)"
   ]
  },
  {
   "cell_type": "code",
   "execution_count": 59,
   "metadata": {},
   "outputs": [],
   "source": [
    "G_normal     = custom_exponential_graph(full_graph, scale=100)\n",
    "# Social distancing interactions:\n",
    "G_distancing = custom_exponential_graph(full_graph, scale=10)\n",
    "# # Quarantine interactions:\n",
    "G_quarantine = custom_exponential_graph(full_graph, scale=5)"
   ]
  },
  {
   "cell_type": "code",
   "execution_count": 60,
   "metadata": {
    "tags": [
     "outputPrepend",
     "outputPrepend",
     "outputPrepend",
     "outputPrepend",
     "outputPrepend",
     "outputPrepend",
     "outputPrepend",
     "outputPrepend",
     "outputPrepend",
     "outputPrepend",
     "outputPrepend",
     "outputPrepend",
     "outputPrepend",
     "outputPrepend",
     "outputPrepend",
     "outputPrepend",
     "outputPrepend",
     "outputPrepend",
     "outputPrepend",
     "outputPrepend",
     "outputPrepend",
     "outputPrepend",
     "outputPrepend",
     "outputPrepend",
     "outputPrepend",
     "outputPrepend",
     "outputPrepend",
     "outputPrepend",
     "outputPrepend",
     "outputPrepend",
     "outputPrepend",
     "outputPrepend",
     "outputPrepend",
     "outputPrepend",
     "outputPrepend",
     "outputPrepend",
     "outputPrepend",
     "outputPrepend",
     "outputPrepend",
     "outputPrepend",
     "outputPrepend",
     "outputPrepend",
     "outputPrepend",
     "outputPrepend",
     "outputPrepend",
     "outputPrepend",
     "outputPrepend",
     "outputPrepend",
     "outputPrepend",
     "outputPrepend",
     "outputPrepend",
     "outputPrepend",
     "outputPrepend",
     "outputPrepend",
     "outputPrepend",
     "outputPrepend",
     "outputPrepend",
     "outputPrepend",
     "outputPrepend",
     "outputPrepend",
     "outputPrepend",
     "outputPrepend",
     "outputPrepend",
     "outputPrepend",
     "outputPrepend",
     "outputPrepend",
     "outputPrepend",
     "outputPrepend",
     "outputPrepend",
     "outputPrepend",
     "outputPrepend",
     "outputPrepend",
     "outputPrepend",
     "outputPrepend",
     "outputPrepend",
     "outputPrepend",
     "outputPrepend",
     "outputPrepend",
     "outputPrepend",
     "outputPrepend",
     "outputPrepend",
     "outputPrepend",
     "outputPrepend",
     "outputPrepend",
     "outputPrepend",
     "outputPrepend",
     "outputPrepend",
     "outputPrepend",
     "outputPrepend",
     "outputPrepend",
     "outputPrepend",
     "outputPrepend",
     "outputPrepend",
     "outputPrepend",
     "outputPrepend",
     "outputPrepend",
     "outputPrepend",
     "outputPrepend",
     "outputPrepend",
     "outputPrepend",
     "outputPrepend",
     "outputPrepend",
     "outputPrepend",
     "outputPrepend",
     "outputPrepend",
     "outputPrepend",
     "outputPrepend",
     "outputPrepend",
     "outputPrepend",
     "outputPrepend",
     "outputPrepend",
     "outputPrepend",
     "outputPrepend",
     "outputPrepend",
     "outputPrepend",
     "outputPrepend",
     "outputPrepend",
     "outputPrepend",
     "outputPrepend",
     "outputPrepend",
     "outputPrepend",
     "outputPrepend",
     "outputPrepend",
     "outputPrepend",
     "outputPrepend",
     "outputPrepend",
     "outputPrepend",
     "outputPrepend",
     "outputPrepend",
     "outputPrepend",
     "outputPrepend",
     "outputPrepend",
     "outputPrepend",
     "outputPrepend",
     "outputPrepend",
     "outputPrepend",
     "outputPrepend",
     "outputPrepend",
     "outputPrepend",
     "outputPrepend",
     "outputPrepend",
     "outputPrepend",
     "outputPrepend",
     "outputPrepend",
     "outputPrepend",
     "outputPrepend",
     "outputPrepend",
     "outputPrepend",
     "outputPrepend",
     "outputPrepend",
     "outputPrepend",
     "outputPrepend",
     "outputPrepend",
     "outputPrepend",
     "outputPrepend",
     "outputPrepend",
     "outputPrepend",
     "outputPrepend",
     "outputPrepend",
     "outputPrepend",
     "outputPrepend",
     "outputPrepend",
     "outputPrepend",
     "outputPrepend",
     "outputPrepend",
     "outputPrepend",
     "outputPrepend",
     "outputPrepend",
     "outputPrepend",
     "outputPrepend",
     "outputPrepend",
     "outputPrepend",
     "outputPrepend",
     "outputPrepend",
     "outputPrepend",
     "outputPrepend",
     "outputPrepend",
     "outputPrepend",
     "outputPrepend",
     "outputPrepend",
     "outputPrepend",
     "outputPrepend",
     "outputPrepend",
     "outputPrepend",
     "outputPrepend"
    ]
   },
   "outputs": [],
   "source": [
    "\n",
    "betas = [] # TODO: set up betas for each occupation\n",
    "for individual in listOfNodes:\n",
    "    title, _        = individual\n",
    "    infection       = worker_data_final.loc[worker_data_final['Title'] == title, 'Exposed to Disease or Infections'].iloc[0]\n",
    "    betas.append(infection*0.1)"
   ]
  },
  {
   "cell_type": "code",
   "execution_count": 61,
   "metadata": {},
   "outputs": [
    {
     "name": "stdout",
     "output_type": "stream",
     "text": [
      "9441\n",
      "9441\n"
     ]
    }
   ],
   "source": [
    "print(len(list(G_normal.nodes)))\n",
    "print(len(betas))"
   ]
  },
  {
   "cell_type": "code",
   "execution_count": 62,
   "metadata": {},
   "outputs": [],
   "source": [
    "model = SEIRSNetworkModel(G=G_normal, beta=betas, sigma=1/5.2, gamma=1/12.39, mu_I=0.0004, p=0.5,\n",
    "                          Q=G_quarantine, beta_D=0.155, sigma_D=1/5.2, gamma_D=1/12.39, mu_D=0.0004,\n",
    "                          theta_E=0.02, theta_I=0.02, phi_E=0.2, phi_I=0.2, psi_E=1.0, psi_I=1.0, q=0.5,\n",
    "                          initI=10)\n",
    "                          \n",
    "with open(\"pickles/SEIRS_model.pickle\", \"wb\") as file:\n",
    "    pickle.dump(model, file)"
   ]
  },
  {
   "cell_type": "markdown",
   "metadata": {},
   "source": [
    "## 5. Running Simulations"
   ]
  },
  {
   "cell_type": "markdown",
   "metadata": {},
   "source": [
    "### 5.1 Setup"
   ]
  },
  {
   "cell_type": "code",
   "execution_count": 63,
   "metadata": {},
   "outputs": [],
   "source": [
    "with open('pickles/barabasiMerge.pickle', \"rb\") as file:\n",
    "    full_graph = pickle.load(file)"
   ]
  },
  {
   "cell_type": "code",
   "execution_count": 64,
   "metadata": {},
   "outputs": [],
   "source": [
    "with open('pickles/worker_data_final.pickle', 'rb') as file:\n",
    "    worker_data_final = pickle.load(file)"
   ]
  },
  {
   "cell_type": "code",
   "execution_count": 4,
   "metadata": {},
   "outputs": [],
   "source": [
    "with open('pickles/listOfNodes.pickle', \"rb\") as file:\n",
    "    listOfNodes = pickle.load(file)"
   ]
  },
  {
   "cell_type": "code",
   "execution_count": 65,
   "metadata": {},
   "outputs": [
    {
     "data": {
      "text/html": [
       "<div>\n",
       "<style scoped>\n",
       "    .dataframe tbody tr th:only-of-type {\n",
       "        vertical-align: middle;\n",
       "    }\n",
       "\n",
       "    .dataframe tbody tr th {\n",
       "        vertical-align: top;\n",
       "    }\n",
       "\n",
       "    .dataframe thead th {\n",
       "        text-align: right;\n",
       "    }\n",
       "</style>\n",
       "<table border=\"1\" class=\"dataframe\">\n",
       "  <thead>\n",
       "    <tr style=\"text-align: right;\">\n",
       "      <th></th>\n",
       "      <th>Title</th>\n",
       "      <th>Exposed to Disease or Infections</th>\n",
       "      <th>Physical Proximity</th>\n",
       "      <th>Employment</th>\n",
       "      <th>Annual Income</th>\n",
       "    </tr>\n",
       "  </thead>\n",
       "  <tbody>\n",
       "    <tr>\n",
       "      <th>0</th>\n",
       "      <td>Chief Executives</td>\n",
       "      <td>1.72</td>\n",
       "      <td>2.73</td>\n",
       "      <td>205890</td>\n",
       "      <td>193850</td>\n",
       "    </tr>\n",
       "    <tr>\n",
       "      <th>1</th>\n",
       "      <td>General and Operations Managers</td>\n",
       "      <td>1.56</td>\n",
       "      <td>3.21</td>\n",
       "      <td>2400280</td>\n",
       "      <td>123030</td>\n",
       "    </tr>\n",
       "    <tr>\n",
       "      <th>2</th>\n",
       "      <td>Advertising and Promotions Managers</td>\n",
       "      <td>1.03</td>\n",
       "      <td>2.82</td>\n",
       "      <td>25100</td>\n",
       "      <td>141890</td>\n",
       "    </tr>\n",
       "    <tr>\n",
       "      <th>3</th>\n",
       "      <td>Marketing Managers</td>\n",
       "      <td>1.07</td>\n",
       "      <td>2.89</td>\n",
       "      <td>263680</td>\n",
       "      <td>149200</td>\n",
       "    </tr>\n",
       "    <tr>\n",
       "      <th>4</th>\n",
       "      <td>Sales Managers</td>\n",
       "      <td>1.13</td>\n",
       "      <td>2.91</td>\n",
       "      <td>402600</td>\n",
       "      <td>141690</td>\n",
       "    </tr>\n",
       "    <tr>\n",
       "      <th>...</th>\n",
       "      <td>...</td>\n",
       "      <td>...</td>\n",
       "      <td>...</td>\n",
       "      <td>...</td>\n",
       "      <td>...</td>\n",
       "    </tr>\n",
       "    <tr>\n",
       "      <th>560</th>\n",
       "      <td>Gas Compressor and Gas Pumping Station Operators</td>\n",
       "      <td>1.15</td>\n",
       "      <td>3.64</td>\n",
       "      <td>3440</td>\n",
       "      <td>62710</td>\n",
       "    </tr>\n",
       "    <tr>\n",
       "      <th>561</th>\n",
       "      <td>Pump Operators, Except Wellhead Pumpers</td>\n",
       "      <td>1.22</td>\n",
       "      <td>3.09</td>\n",
       "      <td>10000</td>\n",
       "      <td>49120</td>\n",
       "    </tr>\n",
       "    <tr>\n",
       "      <th>562</th>\n",
       "      <td>Wellhead Pumpers</td>\n",
       "      <td>1.23</td>\n",
       "      <td>1.74</td>\n",
       "      <td>12970</td>\n",
       "      <td>55080</td>\n",
       "    </tr>\n",
       "    <tr>\n",
       "      <th>563</th>\n",
       "      <td>Refuse and Recyclable Material Collectors</td>\n",
       "      <td>3.53</td>\n",
       "      <td>2.22</td>\n",
       "      <td>121330</td>\n",
       "      <td>41400</td>\n",
       "    </tr>\n",
       "    <tr>\n",
       "      <th>564</th>\n",
       "      <td>Tank Car, Truck, and Ship Loaders</td>\n",
       "      <td>1.12</td>\n",
       "      <td>3.46</td>\n",
       "      <td>11620</td>\n",
       "      <td>47580</td>\n",
       "    </tr>\n",
       "  </tbody>\n",
       "</table>\n",
       "<p>565 rows × 5 columns</p>\n",
       "</div>"
      ],
      "text/plain": [
       "                                                Title  \\\n",
       "0                                    Chief Executives   \n",
       "1                     General and Operations Managers   \n",
       "2                 Advertising and Promotions Managers   \n",
       "3                                  Marketing Managers   \n",
       "4                                      Sales Managers   \n",
       "..                                                ...   \n",
       "560  Gas Compressor and Gas Pumping Station Operators   \n",
       "561           Pump Operators, Except Wellhead Pumpers   \n",
       "562                                  Wellhead Pumpers   \n",
       "563         Refuse and Recyclable Material Collectors   \n",
       "564                 Tank Car, Truck, and Ship Loaders   \n",
       "\n",
       "     Exposed to Disease or Infections  Physical Proximity  Employment  \\\n",
       "0                                1.72                2.73      205890   \n",
       "1                                1.56                3.21     2400280   \n",
       "2                                1.03                2.82       25100   \n",
       "3                                1.07                2.89      263680   \n",
       "4                                1.13                2.91      402600   \n",
       "..                                ...                 ...         ...   \n",
       "560                              1.15                3.64        3440   \n",
       "561                              1.22                3.09       10000   \n",
       "562                              1.23                1.74       12970   \n",
       "563                              3.53                2.22      121330   \n",
       "564                              1.12                3.46       11620   \n",
       "\n",
       "    Annual Income  \n",
       "0          193850  \n",
       "1          123030  \n",
       "2          141890  \n",
       "3          149200  \n",
       "4          141690  \n",
       "..            ...  \n",
       "560         62710  \n",
       "561         49120  \n",
       "562         55080  \n",
       "563         41400  \n",
       "564         47580  \n",
       "\n",
       "[565 rows x 5 columns]"
      ]
     },
     "execution_count": 65,
     "metadata": {},
     "output_type": "execute_result"
    }
   ],
   "source": [
    "worker_data_final"
   ]
  },
  {
   "cell_type": "code",
   "execution_count": 66,
   "metadata": {},
   "outputs": [],
   "source": [
    "\n",
    "# Every cycle, people have random change of being laid off, or pay cut (income changes)\n",
    "# Ryan's equation takes in that income, output percentage change from baseline activity\n",
    "# Using percentage change from baseline activity, multiply percentage of original nodes to reintroduce\n",
    "# Run simulation again\n",
    "\n",
    "class Individual():\n",
    "    def __init__(self, id, occupation, income):\n",
    "        self.id = id\n",
    "        self.occupation = occupation\n",
    "        self.income = 0 if income == '*' else int(income)\n",
    "        self.connections = [] # list of individuals with an active connection\n",
    "        self.historical_connections = [] # list of individuals with an active connection\n",
    "        self.pendingActiveConnections = 0 # pending number of connections the individual is attempting to have\n",
    "        self.stimulusRecieved = 0\n",
    "    def recieveStimulus(self, amount):\n",
    "        assert(self.stimulusRecieved == 0)\n",
    "        self.income += amount\n",
    "        self.stimulusRecieved += amount\n",
    "    def spendStimulus(self):\n",
    "        self.income -= self.stimulusRecieved\n",
    "        self.stimulusRecieved = 0\n",
    "    def payCut(self, percentage):\n",
    "        self.income*=(1-percentage)\n",
    "        self.income= int(self.income)\n",
    "    def fired(self):\n",
    "        self.occupation = \"Unemployed\"\n",
    "        self.income = 0"
   ]
  },
  {
   "cell_type": "code",
   "execution_count": 67,
   "metadata": {},
   "outputs": [],
   "source": [
    "def initIndividuals():\n",
    "    listOfIndividuals = [Individual(id, occupation, worker_data_final.loc[worker_data_final['Title'] == occupation, 'Annual Income'].iloc[0]) for id, (occupation, numConn) in enumerate(listOfNodes)]\n",
    "    print(\"Set up the list!\")\n",
    "    for edge in list(full_graph.edges): # get from the original barabasi-graph\n",
    "        a, b = edge\n",
    "        listOfIndividuals[a].historical_connections.append(listOfIndividuals[b])\n",
    "        listOfIndividuals[b].historical_connections.append(listOfIndividuals[a])\n",
    "    for individual in listOfIndividuals:\n",
    "        individual.connections = individual.historical_connections\n",
    "    print(\"Set up the edge connections!\")\n",
    "    return listOfIndividuals"
   ]
  },
  {
   "cell_type": "code",
   "execution_count": 68,
   "metadata": {},
   "outputs": [
    {
     "name": "stdout",
     "output_type": "stream",
     "text": [
      "Set up the list!\n",
      "Set up the edge connections!\n",
      "9441\n"
     ]
    }
   ],
   "source": [
    "listOfIndividuals = initIndividuals()\n",
    "print(len(listOfIndividuals))"
   ]
  },
  {
   "cell_type": "code",
   "execution_count": 69,
   "metadata": {},
   "outputs": [
    {
     "ename": "RecursionError",
     "evalue": "maximum recursion depth exceeded while calling a Python object",
     "output_type": "error",
     "traceback": [
      "\u001b[0;31m---------------------------------------------------------------------------\u001b[0m",
      "\u001b[0;31mRecursionError\u001b[0m                            Traceback (most recent call last)",
      "\u001b[0;32m<ipython-input-69-badab0abefed>\u001b[0m in \u001b[0;36m<module>\u001b[0;34m\u001b[0m\n\u001b[1;32m      1\u001b[0m \u001b[0;32mwith\u001b[0m \u001b[0mopen\u001b[0m\u001b[0;34m(\u001b[0m\u001b[0;34m\"pickles/individuals.pickle\"\u001b[0m\u001b[0;34m,\u001b[0m \u001b[0;34m\"wb\"\u001b[0m\u001b[0;34m)\u001b[0m \u001b[0;32mas\u001b[0m \u001b[0mfile\u001b[0m\u001b[0;34m:\u001b[0m\u001b[0;34m\u001b[0m\u001b[0;34m\u001b[0m\u001b[0m\n\u001b[0;32m----> 2\u001b[0;31m     \u001b[0mpickle\u001b[0m\u001b[0;34m.\u001b[0m\u001b[0mdump\u001b[0m\u001b[0;34m(\u001b[0m\u001b[0mlistOfIndividuals\u001b[0m\u001b[0;34m,\u001b[0m \u001b[0mfile\u001b[0m\u001b[0;34m)\u001b[0m\u001b[0;34m\u001b[0m\u001b[0;34m\u001b[0m\u001b[0m\n\u001b[0m",
      "\u001b[0;31mRecursionError\u001b[0m: maximum recursion depth exceeded while calling a Python object"
     ]
    }
   ],
   "source": [
    "with open(\"pickles/individuals.pickle\", \"wb\") as file:\n",
    "    pickle.dump(listOfIndividuals, file)"
   ]
  },
  {
   "cell_type": "markdown",
   "metadata": {},
   "source": [
    "### 5.2 Runtime"
   ]
  },
  {
   "cell_type": "code",
   "execution_count": 82,
   "metadata": {},
   "outputs": [],
   "source": [
    "with open(\"pickles/SEIRS_model.pickle\", \"rb\") as file:\n",
    "    model = pickle.load(file)"
   ]
  },
  {
   "cell_type": "code",
   "execution_count": 83,
   "metadata": {},
   "outputs": [],
   "source": [
    "# with open(\"pickles/individuals.pickle\", \"rb\") as file:\n",
    "#     listOfIndividuals = pickle.load(file)\n",
    "\n",
    "\n",
    "G_normal     = custom_exponential_graph(full_graph, scale=100)\n",
    "\n"
   ]
  },
  {
   "cell_type": "code",
   "execution_count": 93,
   "metadata": {},
   "outputs": [],
   "source": [
    "import random\n",
    "\"\"\"\n",
    "Format of @param commands positive or negative values\n",
    "Protocol: Social distancing is two way (ie. Interactions will only occur if both agree to it). If one does not agree to it, then it will not occur. \n",
    "\"\"\"\n",
    "def edgeOperation(graph, individuals, commands):\n",
    "    nodeList = list(graph.nodes)\n",
    "#     print(nodeList)\n",
    "    for id, command in enumerate(commands):\n",
    "        individual = individuals[id]\n",
    "        if command > 0: # add edges\n",
    "            complementIntersectionConnection = list(set(individual.historical_connections) - set(individual.connections))\n",
    "            for other in complementIntersectionConnection:\n",
    "                if command == 0:\n",
    "                    break\n",
    "                if other.id not in nodeList: # node has been removed from the graph\n",
    "                    continue\n",
    "                if other.pendingActiveConnections > 0:\n",
    "                    command -= 1\n",
    "                    graph.add_edge(id, other.id)\n",
    "                    other.connections.append(id)\n",
    "                    individual.connections.append(other.id)\n",
    "\n",
    "            individual.pendingActiveConnections += command\n",
    "        if command < 0: # remove edges\n",
    "            for other in individual.connections:\n",
    "                if command == 0:\n",
    "                    break\n",
    "                if other not in nodeList: # node has been removed from the graph\n",
    "                    continue\n",
    "                if other.pendingActiveConnections > 0:\n",
    "                    command += 1\n",
    "                    graph.remove_edge(id, other.id)\n",
    "                    other.connections.remove(id)\n",
    "                    individual.connections.remove(other.id)\n",
    "    return graph\n",
    "\n",
    "\n",
    "\"\"\"\n",
    "Purpose: Adds a temporary amount of money to individuals income. Can be called inbetween any time period\n",
    "@param: listOfIndividuals, list of individuals w/ properties\n",
    "@param: incomeCutOff, the cutoff at which people no longer recieve savings\n",
    "@param: stimulusAmount, amount recieved as stimulus\n",
    "@returns : a new version of the list\n",
    "\"\"\"\n",
    "def distributeStimulus(listOfIndividuals, incomeCutOff, stimulusAmount):\n",
    "    listOfIndividuals.sort(key=lambda x: x.income)\n",
    "#     print([indv.income for indv in listOfIndividuals[:10]])\n",
    "    for indv in listOfIndividuals:\n",
    "        if(indv.income > incomeCutOff):\n",
    "            break\n",
    "        indv.recieveStimulus(1200)\n",
    "#     print([indv.income for indv in listOfIndividuals[:10]])\n",
    "    return listOfIndividuals\n",
    "\n",
    "\n",
    "\n",
    "\"\"\"\n",
    "Purpose: Removes temporary stimulus from individuals income. Can be called inbetween any time period\n",
    "@param: listOfIndividuals, list of individuals w/ properties\n",
    "@returns : a new version of the list\n",
    "\"\"\"\n",
    "def removeStimulus(listOfIndividuals):\n",
    "#     print([indv.income for indv in listOfIndividuals[:10]])\n",
    "    for indv in listOfIndividuals:\n",
    "        indv.spendStimulus()\n",
    "#     print([indv.income for indv in listOfIndividuals[:10]])\n",
    "    return listOfIndividuals\n",
    "        \n",
    "\"\"\"\n",
    "Purpose: Lays number of individuals off. Can be called in-between any time period\n",
    "@param: graph, graph of the agents\n",
    "@param: listOfIndividuals, list of individuals w/ properties\n",
    "@param: laidOffProbability, probability of being fired\n",
    "@returns : a new version of the list\n",
    "\"\"\"\n",
    "def getLaidOff(listOfIndividuals, laidOffProbability):\n",
    "    for indv in listOfIndividuals:\n",
    "        if(random.random() < laidOffProbability):\n",
    "            indv.fired()\n",
    "    return listOfIndividuals\n",
    "\n",
    "\"\"\"\n",
    "Purpose: Lays number of individuals off. Can be called in-between any time period\n",
    "@param: graph, graph of the agents\n",
    "@param: listOfIndividuals, list of individuals w/ properties\n",
    "@param: laidOffProbability, probability of being fired\n",
    "@returns : a new version of the list\n",
    "\"\"\"\n",
    "def getPayCut(listOfIndividuals, paycutProbability):\n",
    "    for indv in listOfIndividuals:\n",
    "        if(random.random() < paycutProbability):\n",
    "#             print(indv.income, indv.occupation)\n",
    "            indv.payCut(random.uniform(0.1,0.2))\n",
    "#             print(indv.income, indv.occupation)\n",
    "    return listOfIndividuals\n",
    "\n",
    "\n",
    "\"\"\"\n",
    "Purpose: Updates distancing in graph plugging the income into regression values. Called in-between every time period\n",
    "@param: graph, graph of the agents\n",
    "@param: listOfIndividuals, list of individuals w/ properties\n",
    "@param: laidOffProbability, probability of being fired\n",
    "@returns : a new version of the list\n",
    "\"\"\"\n",
    "def updateDistancing(listOfIndividuals, graph):\n",
    "    individualsToUpdate = []\n",
    "    commandsForIndv = []\n",
    "    for indv in listOfIndividuals:\n",
    "        percentageChangeDistancing = incomeToPercentageChangeInActivity(indv.income)/100\n",
    "        numOriginalConnections = len(indv.historical_connections)\n",
    "        nodesToAddRemove = int(percentageChangeDistancing*numOriginalConnections)\n",
    "        if nodesToAddRemove != 0:\n",
    "            individualsToUpdate.append(indv)\n",
    "            commandsForIndv.append(nodesToAddRemove)\n",
    "#             print(individualsToUpdate[-1], numOriginalConnections, percentageChangeDistancing, commandsForIndv[-1])\n",
    "    return edgeOperation(graph, individualsToUpdate, commandsForIndv)\n",
    "            \n",
    "        \n",
    "            \n",
    "        \n",
    "        \n",
    "\"\"\"\n",
    "Purpose: Gives the income to Percentage Change in Activity\n",
    "@param: income, income of the agents\n",
    "@returns : percentage change out of 100\n",
    "\"\"\"\n",
    "def incomeToPercentageChangeInActivity(income):\n",
    "    return -3.24337313e-04*income+80.28119700313414+0.9557809844719977*-1.16951612e+02+1.93306095e+01*0.2659150890506241\n",
    "            \n",
    "# with open(\"pickles/individuals.pickle\", \"rb\") as file:\n",
    "#     listOfIndividuals = pickle.load(file)\n",
    "\n",
    "\"\"\"\n",
    "@param action       : This is the function that will be run every iteration on the graph\n",
    "@param iterations   : The number of iterations the simulation will be run for\n",
    "@param unit_time    : The amount of time each iteration will run for\n",
    "\"\"\"\n",
    "def runSimulation(unit_time): # this action will be taken every round\n",
    "    with open(\"pickles/SEIRS_model.pickle\", \"rb\") as file:\n",
    "        model = pickle.load(file)\n",
    "\n",
    "    graph = model.G\n",
    "#     model.update_G(updateDistancing(listOfIndividuals, model.G)) # update the graph with modified edges\n",
    "    model.run(T=unit_time)\n",
    "\n",
    "edges = model.G.edges([0]) # constant time\n",
    "\n",
    "\n",
    "# variable "
   ]
  },
  {
   "cell_type": "code",
   "execution_count": 94,
   "metadata": {},
   "outputs": [
    {
     "name": "stdout",
     "output_type": "stream",
     "text": [
      "t = 0.70\n",
      "t = 10.90\n",
      "t = 20.12\n",
      "t = 30.01\n",
      "t = 40.00\n",
      "t = 50.12\n",
      "t = 60.02\n",
      "t = 70.02\n",
      "t = 80.02\n",
      "t = 90.01\n",
      "t = 100.01\n"
     ]
    }
   ],
   "source": [
    "runSimulation(100)"
   ]
  },
  {
   "cell_type": "markdown",
   "metadata": {},
   "source": [
    "## 6. Reflection\n",
    "\n",
    "### Points of Improvement\n",
    "\n",
    "Model does not account for:\n",
    "* Change in vocation due to tough times"
   ]
  },
  {
   "cell_type": "code",
   "execution_count": 95,
   "metadata": {},
   "outputs": [
    {
     "data": {
      "image/png": "[encoded data removed]",
      "text/plain": [
       "<Figure size 864x576 with 1 Axes>"
      ]
     },
     "metadata": {},
     "output_type": "display_data"
    }
   ],
   "source": [
    "import matplotlib.pyplot as plt\n",
    "model.figure_basic()\n",
    "plt.show()"
   ]
  },
  {
   "cell_type": "code",
   "execution_count": null,
   "metadata": {},
   "outputs": [],
   "source": []
  }
 ],
 "metadata": {
  "file_extension": ".py",
  "kernelspec": {
   "display_name": "Python 3",
   "language": "python",
   "name": "python3"
  },
  "language_info": {
   "codemirror_mode": {
    "name": "ipython",
    "version": 3
   },
   "file_extension": ".py",
   "mimetype": "text/x-python",
   "name": "python",
   "nbconvert_exporter": "python",
   "pygments_lexer": "ipython3",
   "version": "3.7.4"
  },
  "mimetype": "text/x-python",
  "name": "python",
  "npconvert_exporter": "python",
  "pygments_lexer": "ipython3",
  "version": 3
 },
 "nbformat": 4,
 "nbformat_minor": 4
}
