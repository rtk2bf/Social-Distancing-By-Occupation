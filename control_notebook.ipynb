{
 "cells": [
  {
   "cell_type": "markdown",
   "metadata": {},
   "source": []
  },
  {
   "cell_type": "code",
   "execution_count": 1,
   "metadata": {},
   "outputs": [],
   "source": [
    "import pandas as pd\n",
    "from seirsplus.models import *\n",
    "import networkx\n",
    "import pickle"
   ]
  },
  {
   "cell_type": "code",
   "execution_count": 24,
   "metadata": {},
   "outputs": [],
   "source": [
    "# build pandas dataframe from excel file\n",
    "filePath = 'google_county_data.xlsx'\n",
    "activity_data = pd.read_excel(filePath)\n",
    "# Save file so it does not have to be recompiled\n",
    "with open('activity_data.pickle', 'wb') as file:\n",
    "    pickle.dump(activity_data, file)"
   ]
  },
  {
   "cell_type": "code",
   "execution_count": 25,
   "metadata": {},
   "outputs": [],
   "source": [
    "with open('activity_data.pickle', 'rb') as file:\n",
    "    activity_data = pickle.load(file)"
   ]
  },
  {
   "cell_type": "code",
   "execution_count": 26,
   "metadata": {},
   "outputs": [
    {
     "output_type": "execute_result",
     "data": {
      "text/plain": "  country_region_code country_region sub_region_1 sub_region_2       date  \\\n0                  US  United States          NaN          NaN 2020-02-15   \n1                  US  United States          NaN          NaN 2020-02-16   \n2                  US  United States          NaN          NaN 2020-02-17   \n3                  US  United States          NaN          NaN 2020-02-18   \n4                  US  United States          NaN          NaN 2020-02-19   \n\n   retail_and_recreation_percent_change_from_baseline  \\\n0                                                6.0    \n1                                                7.0    \n2                                                6.0    \n3                                                0.0    \n4                                                2.0    \n\n   grocery_and_pharmacy_percent_change_from_baseline  \\\n0                                                2.0   \n1                                                1.0   \n2                                                0.0   \n3                                               -1.0   \n4                                                0.0   \n\n   parks_percent_change_from_baseline  \\\n0                                15.0   \n1                                16.0   \n2                                28.0   \n3                                 6.0   \n4                                 8.0   \n\n   transit_stations_percent_change_from_baseline  \\\n0                                            3.0   \n1                                            2.0   \n2                                           -9.0   \n3                                            1.0   \n4                                            1.0   \n\n   workplaces_percent_change_from_baseline  \\\n0                                      2.0   \n1                                      0.0   \n2                                    -24.0   \n3                                      0.0   \n4                                      1.0   \n\n   residential_percent_change_from_baseline  \n0                                      -1.0  \n1                                      -1.0  \n2                                       5.0  \n3                                       1.0  \n4                                       0.0  ",
      "text/html": "<div>\n<style scoped>\n    .dataframe tbody tr th:only-of-type {\n        vertical-align: middle;\n    }\n\n    .dataframe tbody tr th {\n        vertical-align: top;\n    }\n\n    .dataframe thead th {\n        text-align: right;\n    }\n</style>\n<table border=\"1\" class=\"dataframe\">\n  <thead>\n    <tr style=\"text-align: right;\">\n      <th></th>\n      <th>country_region_code</th>\n      <th>country_region</th>\n      <th>sub_region_1</th>\n      <th>sub_region_2</th>\n      <th>date</th>\n      <th>retail_and_recreation_percent_change_from_baseline</th>\n      <th>grocery_and_pharmacy_percent_change_from_baseline</th>\n      <th>parks_percent_change_from_baseline</th>\n      <th>transit_stations_percent_change_from_baseline</th>\n      <th>workplaces_percent_change_from_baseline</th>\n      <th>residential_percent_change_from_baseline</th>\n    </tr>\n  </thead>\n  <tbody>\n    <tr>\n      <th>0</th>\n      <td>US</td>\n      <td>United States</td>\n      <td>NaN</td>\n      <td>NaN</td>\n      <td>2020-02-15</td>\n      <td>6.0</td>\n      <td>2.0</td>\n      <td>15.0</td>\n      <td>3.0</td>\n      <td>2.0</td>\n      <td>-1.0</td>\n    </tr>\n    <tr>\n      <th>1</th>\n      <td>US</td>\n      <td>United States</td>\n      <td>NaN</td>\n      <td>NaN</td>\n      <td>2020-02-16</td>\n      <td>7.0</td>\n      <td>1.0</td>\n      <td>16.0</td>\n      <td>2.0</td>\n      <td>0.0</td>\n      <td>-1.0</td>\n    </tr>\n    <tr>\n      <th>2</th>\n      <td>US</td>\n      <td>United States</td>\n      <td>NaN</td>\n      <td>NaN</td>\n      <td>2020-02-17</td>\n      <td>6.0</td>\n      <td>0.0</td>\n      <td>28.0</td>\n      <td>-9.0</td>\n      <td>-24.0</td>\n      <td>5.0</td>\n    </tr>\n    <tr>\n      <th>3</th>\n      <td>US</td>\n      <td>United States</td>\n      <td>NaN</td>\n      <td>NaN</td>\n      <td>2020-02-18</td>\n      <td>0.0</td>\n      <td>-1.0</td>\n      <td>6.0</td>\n      <td>1.0</td>\n      <td>0.0</td>\n      <td>1.0</td>\n    </tr>\n    <tr>\n      <th>4</th>\n      <td>US</td>\n      <td>United States</td>\n      <td>NaN</td>\n      <td>NaN</td>\n      <td>2020-02-19</td>\n      <td>2.0</td>\n      <td>0.0</td>\n      <td>8.0</td>\n      <td>1.0</td>\n      <td>1.0</td>\n      <td>0.0</td>\n    </tr>\n  </tbody>\n</table>\n</div>"
     },
     "metadata": {},
     "execution_count": 26
    }
   ],
   "source": [
    "activity_data.head()"
   ]
  },
  {
   "cell_type": "code",
   "execution_count": 63,
   "metadata": {},
   "outputs": [],
   "source": [
    "state_list = ['Washington', 'Georgia', 'New Jersey', 'Utah']\n",
    "files_per_capita = [\"data/washington_per_capita.xlsx\",\"data/georgia_per_capita.xlsx\",\"data/new_jersey_per_capita.xlsx\",\"data/per_capita_utah.xlsx\"]\n",
    "files_industry = ['data/CAEMP25N_WA_2001_2018.csv','data/CAEMP25N_GA_2001_2018.csv','data/CAEMP25N_NJ_2001_2018.csv','data/CAEMP25N_UT_2001_2018.csv']\n",
    "\n",
    "per_capita_dfs = []\n",
    "industry_dfs = []\n",
    "travel_data_dfs = []\n",
    "\n",
    "for fileName in files_per_capita:\n",
    "    with open(fileName,'rb') as file:\n",
    "        df = pd.read_excel(file)\n",
    "        df = df.filter(items=['location','dollars_2018'])\n",
    "        per_capita_dfs.append(df)\n",
    "\n",
    "for fileName in files_industry:\n",
    "    with open(fileName,'rb') as file:\n",
    "        df = pd.read_csv(file)\n",
    "        df = df.filter(items=['GeoName','Description','2018'])\n",
    "        industry_dfs.append(df)\n",
    "\n",
    "activity_data = activity_data.filter(['country_region','sub_region_1','sub_region_2','date','workplaces_percent_change_from_baseline'])\n",
    "for state in state_list:\n",
    "    df  = activity_data.loc[activity_data['sub_region_1'] == state]\n",
    "    df = df.filter(items=['sub_region_2','date','workplaces_percent_change_from_baseline'])\n",
    "    travel_data_dfs.append(df)\n",
    "\n",
    "with open('per_capita_dfs.pickle', 'wb') as file:\n",
    "    pickle.dump(per_capita_dfs, file)\n",
    "with open('industry_dfs.pickle', 'wb') as file:\n",
    "    pickle.dump(industry_dfs, file)"
   ]
  },
  {
   "cell_type": "code",
   "execution_count": 64,
   "metadata": {},
   "outputs": [],
   "source": [
    "from functools import reduce\n",
    "def rows_to_cols(relevant_elements, orig_df, colName, colData, idCol):\n",
    "    dataframes = []\n",
    "    characteristics = orig_df[colName]\n",
    "    for element in relevant_elements:\n",
    "        df = orig_df.copy()\n",
    "        df = df[characteristics == element]\n",
    "        # df = df.drop(columns=['Element Name'])\n",
    "        df = df.drop(columns=[colName])\n",
    "        # df = df.rename(columns={'Data Value': element})\n",
    "        df = df.rename(columns={colData: element})\n",
    "        dataframes.append(df)\n",
    "\n",
    "    return reduce(lambda df1,df2: pd.merge(df1,df2,on=[idCol], how='left'), dataframes)"
   ]
  },
  {
   "cell_type": "code",
   "execution_count": 65,
   "metadata": {},
   "outputs": [],
   "source": [
    "for state in range(len(state_list)):\n",
    "    relevant_elements = ['Total employment (number of jobs)',\n",
    "' Wage and salary employment',\n",
    "' Proprietors employment',\n",
    "'  Farm proprietors employment',\n",
    "'  Nonfarm proprietors employment 2/',\n",
    "' Farm employment',\n",
    "' Nonfarm employment',\n",
    "'  Private nonfarm employment',\n",
    "'   Forestry, fishing, and related activities',\n",
    "'   Mining, quarrying, and oil and gas extraction',\n",
    "'   Utilities',\n",
    "'   Construction',\n",
    "'   Manufacturing',\n",
    "'   Wholesale trade',\n",
    "'   Retail trade',\n",
    "'   Transportation and warehousing',\n",
    "'   Information',\n",
    "'   Finance and insurance',\n",
    "'   Real estate and rental and leasing',\n",
    "'   Professional, scientific, and technical services',\n",
    "'   Management of companies and enterprises',\n",
    "'   Administrative and support and waste management and remediation services',\n",
    "'   Educational services',\n",
    "'   Health care and social assistance',\n",
    "'   Arts, entertainment, and recreation',\n",
    "'   Accommodation and food services',\n",
    "'   Other services (except government and government enterprises)',\n",
    "'  Government and government enterprises',\n",
    "'   Federal civilian',\n",
    "'   Military',\n",
    "'   State and local',\n",
    "'    State government',\n",
    "'    Local government'\n",
    "]\n",
    "    industry_dfs[state] = rows_to_cols(relevant_elements, industry_dfs[state], 'Description', '2018', 'GeoName')"
   ]
  },
  {
   "cell_type": "code",
   "execution_count": 66,
   "metadata": {},
   "outputs": [],
   "source": [
    "for state in range(len(state_list)):\n",
    "    relevant_elements = ['2/15/2020',\n",
    "'2/16/2020',\n",
    "'2/17/2020',\n",
    "'2/18/2020',\n",
    "'2/19/2020',\n",
    "'2/20/2020',\n",
    "'2/21/2020',\n",
    "'2/22/2020',\n",
    "'2/23/2020',\n",
    "'2/24/2020',\n",
    "'2/25/2020',\n",
    "'2/26/2020',\n",
    "'2/27/2020',\n",
    "'2/28/2020',\n",
    "'2/29/2020',\n",
    "'3/1/2020',\n",
    "'3/2/2020',\n",
    "'3/3/2020',\n",
    "'3/4/2020',\n",
    "'3/5/2020',\n",
    "'3/6/2020',\n",
    "'3/7/2020',\n",
    "'3/8/2020',\n",
    "'3/9/2020',\n",
    "'3/10/2020',\n",
    "'3/11/2020',\n",
    "'3/12/2020',\n",
    "'3/13/2020',\n",
    "'3/14/2020',\n",
    "'3/15/2020',\n",
    "'3/16/2020',\n",
    "'3/17/2020',\n",
    "'3/18/2020',\n",
    "'3/19/2020',\n",
    "'3/20/2020',\n",
    "'3/21/2020',\n",
    "'3/22/2020',\n",
    "'3/23/2020',\n",
    "'3/24/2020',\n",
    "'3/25/2020',\n",
    "'3/26/2020',\n",
    "'3/27/2020',\n",
    "'3/28/2020',\n",
    "'3/29/2020',\n",
    "'3/30/2020',\n",
    "'3/31/2020',\n",
    "'4/1/2020',\n",
    "'4/2/2020',\n",
    "'4/3/2020',\n",
    "'4/4/2020',\n",
    "'4/5/2020',\n",
    "'4/6/2020',\n",
    "'4/7/2020',\n",
    "'4/8/2020',\n",
    "'4/9/2020',\n",
    "'4/10/2020',\n",
    "'4/11/2020'\n",
    "]\n",
    "\n",
    "    travel_data_dfs[state] = rows_to_cols(relevant_elements, travel_data_dfs[state], 'date', 'workplaces_percent_change_from_baseline', 'sub_region_2')\n",
    "    "
   ]
  },
  {
   "cell_type": "code",
   "execution_count": 67,
   "metadata": {},
   "outputs": [
    {
     "output_type": "execute_result",
     "data": {
      "text/plain": "     location  dollars_2018\n0  Washington         62026\n1       Adams         42800\n2      Asotin         47104\n3      Benton         47465\n4      Chelan         54763",
      "text/html": "<div>\n<style scoped>\n    .dataframe tbody tr th:only-of-type {\n        vertical-align: middle;\n    }\n\n    .dataframe tbody tr th {\n        vertical-align: top;\n    }\n\n    .dataframe thead th {\n        text-align: right;\n    }\n</style>\n<table border=\"1\" class=\"dataframe\">\n  <thead>\n    <tr style=\"text-align: right;\">\n      <th></th>\n      <th>location</th>\n      <th>dollars_2018</th>\n    </tr>\n  </thead>\n  <tbody>\n    <tr>\n      <th>0</th>\n      <td>Washington</td>\n      <td>62026</td>\n    </tr>\n    <tr>\n      <th>1</th>\n      <td>Adams</td>\n      <td>42800</td>\n    </tr>\n    <tr>\n      <th>2</th>\n      <td>Asotin</td>\n      <td>47104</td>\n    </tr>\n    <tr>\n      <th>3</th>\n      <td>Benton</td>\n      <td>47465</td>\n    </tr>\n    <tr>\n      <th>4</th>\n      <td>Chelan</td>\n      <td>54763</td>\n    </tr>\n  </tbody>\n</table>\n</div>"
     },
     "metadata": {},
     "execution_count": 67
    }
   ],
   "source": [
    "per_capita_dfs[0].head()"
   ]
  },
  {
   "cell_type": "code",
   "execution_count": 71,
   "metadata": {},
   "outputs": [
    {
     "output_type": "execute_result",
     "data": {
      "text/plain": "  sub_region_2  2/15/2020  2/16/2020  2/17/2020  2/18/2020  2/19/2020  \\\n2       Asotin        0.0       -1.0      -29.0        3.0        4.0   \n3       Benton       -1.0       -1.0      -38.0        2.0        1.0   \n4       Chelan       -4.0        1.0      -29.0        0.0        2.0   \n5      Clallam       -2.0        1.0      -30.0        1.0        2.0   \n6        Clark       -4.0       -1.0      -27.0        1.0        2.0   \n\n   2/20/2020  2/21/2020  2/22/2020  2/23/2020  ...  4/2/2020  4/3/2020  \\\n2        2.0        4.0        7.0       -1.0  ...     -47.0     -43.0   \n3        0.0        1.0        0.0       -2.0  ...     -54.0     -50.0   \n4        0.0        0.0       -1.0        0.0  ...     -49.0     -49.0   \n5        2.0        2.0        0.0        3.0  ...     -47.0     -45.0   \n6        2.0        3.0        1.0        0.0  ...     -52.0     -51.0   \n\n   4/4/2020  4/5/2020  4/6/2020  4/7/2020  4/8/2020  4/9/2020  4/10/2020  \\\n2     -31.0     -22.0     -40.0     -40.0     -43.0     -43.0      -42.0   \n3     -36.0     -40.0     -53.0     -54.0     -55.0     -55.0      -52.0   \n4     -44.0     -42.0     -43.0     -47.0     -46.0     -48.0      -50.0   \n5     -38.0     -38.0     -40.0     -44.0     -44.0     -46.0      -44.0   \n6     -39.0     -41.0     -50.0     -51.0     -51.0     -51.0      -52.0   \n\n   4/11/2020  \n2      -29.0  \n3      -36.0  \n4      -45.0  \n5      -34.0  \n6      -38.0  \n\n[5 rows x 58 columns]",
      "text/html": "<div>\n<style scoped>\n    .dataframe tbody tr th:only-of-type {\n        vertical-align: middle;\n    }\n\n    .dataframe tbody tr th {\n        vertical-align: top;\n    }\n\n    .dataframe thead th {\n        text-align: right;\n    }\n</style>\n<table border=\"1\" class=\"dataframe\">\n  <thead>\n    <tr style=\"text-align: right;\">\n      <th></th>\n      <th>sub_region_2</th>\n      <th>2/15/2020</th>\n      <th>2/16/2020</th>\n      <th>2/17/2020</th>\n      <th>2/18/2020</th>\n      <th>2/19/2020</th>\n      <th>2/20/2020</th>\n      <th>2/21/2020</th>\n      <th>2/22/2020</th>\n      <th>2/23/2020</th>\n      <th>...</th>\n      <th>4/2/2020</th>\n      <th>4/3/2020</th>\n      <th>4/4/2020</th>\n      <th>4/5/2020</th>\n      <th>4/6/2020</th>\n      <th>4/7/2020</th>\n      <th>4/8/2020</th>\n      <th>4/9/2020</th>\n      <th>4/10/2020</th>\n      <th>4/11/2020</th>\n    </tr>\n  </thead>\n  <tbody>\n    <tr>\n      <th>2</th>\n      <td>Asotin</td>\n      <td>0.0</td>\n      <td>-1.0</td>\n      <td>-29.0</td>\n      <td>3.0</td>\n      <td>4.0</td>\n      <td>2.0</td>\n      <td>4.0</td>\n      <td>7.0</td>\n      <td>-1.0</td>\n      <td>...</td>\n      <td>-47.0</td>\n      <td>-43.0</td>\n      <td>-31.0</td>\n      <td>-22.0</td>\n      <td>-40.0</td>\n      <td>-40.0</td>\n      <td>-43.0</td>\n      <td>-43.0</td>\n      <td>-42.0</td>\n      <td>-29.0</td>\n    </tr>\n    <tr>\n      <th>3</th>\n      <td>Benton</td>\n      <td>-1.0</td>\n      <td>-1.0</td>\n      <td>-38.0</td>\n      <td>2.0</td>\n      <td>1.0</td>\n      <td>0.0</td>\n      <td>1.0</td>\n      <td>0.0</td>\n      <td>-2.0</td>\n      <td>...</td>\n      <td>-54.0</td>\n      <td>-50.0</td>\n      <td>-36.0</td>\n      <td>-40.0</td>\n      <td>-53.0</td>\n      <td>-54.0</td>\n      <td>-55.0</td>\n      <td>-55.0</td>\n      <td>-52.0</td>\n      <td>-36.0</td>\n    </tr>\n    <tr>\n      <th>4</th>\n      <td>Chelan</td>\n      <td>-4.0</td>\n      <td>1.0</td>\n      <td>-29.0</td>\n      <td>0.0</td>\n      <td>2.0</td>\n      <td>0.0</td>\n      <td>0.0</td>\n      <td>-1.0</td>\n      <td>0.0</td>\n      <td>...</td>\n      <td>-49.0</td>\n      <td>-49.0</td>\n      <td>-44.0</td>\n      <td>-42.0</td>\n      <td>-43.0</td>\n      <td>-47.0</td>\n      <td>-46.0</td>\n      <td>-48.0</td>\n      <td>-50.0</td>\n      <td>-45.0</td>\n    </tr>\n    <tr>\n      <th>5</th>\n      <td>Clallam</td>\n      <td>-2.0</td>\n      <td>1.0</td>\n      <td>-30.0</td>\n      <td>1.0</td>\n      <td>2.0</td>\n      <td>2.0</td>\n      <td>2.0</td>\n      <td>0.0</td>\n      <td>3.0</td>\n      <td>...</td>\n      <td>-47.0</td>\n      <td>-45.0</td>\n      <td>-38.0</td>\n      <td>-38.0</td>\n      <td>-40.0</td>\n      <td>-44.0</td>\n      <td>-44.0</td>\n      <td>-46.0</td>\n      <td>-44.0</td>\n      <td>-34.0</td>\n    </tr>\n    <tr>\n      <th>6</th>\n      <td>Clark</td>\n      <td>-4.0</td>\n      <td>-1.0</td>\n      <td>-27.0</td>\n      <td>1.0</td>\n      <td>2.0</td>\n      <td>2.0</td>\n      <td>3.0</td>\n      <td>1.0</td>\n      <td>0.0</td>\n      <td>...</td>\n      <td>-52.0</td>\n      <td>-51.0</td>\n      <td>-39.0</td>\n      <td>-41.0</td>\n      <td>-50.0</td>\n      <td>-51.0</td>\n      <td>-51.0</td>\n      <td>-51.0</td>\n      <td>-52.0</td>\n      <td>-38.0</td>\n    </tr>\n  </tbody>\n</table>\n<p>5 rows × 58 columns</p>\n</div>"
     },
     "metadata": {},
     "execution_count": 71
    }
   ],
   "source": [
    "for state in range(len(state_list)):\n",
    "    travel_data_dfs[state] = travel_data_dfs[state].drop(travel_data_dfs[state].index[0])\n",
    "    travel_data_dfs[state]['sub_region_2'] = travel_data_dfs[state]['sub_region_2'].apply(lambda a: a.split(' ')[0])\n",
    "travel_data_dfs[0].head()"
   ]
  },
  {
   "cell_type": "code",
   "execution_count": 72,
   "metadata": {},
   "outputs": [
    {
     "output_type": "execute_result",
     "data": {
      "text/plain": "   GeoName Total employment (number of jobs)  Wage and salary employment  \\\n1    Adams                              9585                        7525   \n2   Asotin                              9402                        6988   \n3   Benton                            113284                       93867   \n4   Chelan                             56065                       45481   \n5  Clallam                             34952                       25918   \n\n   Proprietors employment   Farm proprietors employment  \\\n1                    2060                           483   \n2                    2414                           166   \n3                   19417                          1349   \n4                   10584                           715   \n5                    9034                           446   \n\n    Nonfarm proprietors employment 2/  Farm employment  Nonfarm employment  \\\n1                                1577             1368                8217   \n2                                2248              219                9183   \n3                               18068             4932              108352   \n4                                9869             5161               50904   \n5                                8588              612               34340   \n\n    Private nonfarm employment    Forestry, fishing, and related activities  \\\n1                         6439                                          450   \n2                         7914                                          (D)   \n3                        94589                                          (D)   \n4                        43529                                          (D)   \n5                        25875                                          830   \n\n   ...    Health care and social assistance  \\\n1  ...                                  (D)   \n2  ...                                 1691   \n3  ...                                13753   \n4  ...                                 7065   \n5  ...                                 3460   \n\n     Arts, entertainment, and recreation    Accommodation and food services  \\\n1                                     53                                474   \n2                                    201                                752   \n3                                   2382                               8303   \n4                                   1124                               5501   \n5                                    752                               3105   \n\n     Other services (except government and government enterprises)  \\\n1                                                363                 \n2                                                695                 \n3                                               5259                 \n4                                               2355                 \n5                                               2469                 \n\n    Government and government enterprises    Federal civilian    Military  \\\n1                                    1778                  39          49   \n2                                    1269                  51          57   \n3                                   13763                 747         522   \n4                                    7375                 600         193   \n5                                    8465                 456         552   \n\n     State and local     State government     Local government  \n1               1690                   74                 1616  \n2               1161                  149                 1012  \n3              12494                 1617                10877  \n4               6582                 1191                 5391  \n5               7457                 1178                 6279  \n\n[5 rows x 34 columns]",
      "text/html": "<div>\n<style scoped>\n    .dataframe tbody tr th:only-of-type {\n        vertical-align: middle;\n    }\n\n    .dataframe tbody tr th {\n        vertical-align: top;\n    }\n\n    .dataframe thead th {\n        text-align: right;\n    }\n</style>\n<table border=\"1\" class=\"dataframe\">\n  <thead>\n    <tr style=\"text-align: right;\">\n      <th></th>\n      <th>GeoName</th>\n      <th>Total employment (number of jobs)</th>\n      <th>Wage and salary employment</th>\n      <th>Proprietors employment</th>\n      <th>Farm proprietors employment</th>\n      <th>Nonfarm proprietors employment 2/</th>\n      <th>Farm employment</th>\n      <th>Nonfarm employment</th>\n      <th>Private nonfarm employment</th>\n      <th>Forestry, fishing, and related activities</th>\n      <th>...</th>\n      <th>Health care and social assistance</th>\n      <th>Arts, entertainment, and recreation</th>\n      <th>Accommodation and food services</th>\n      <th>Other services (except government and government enterprises)</th>\n      <th>Government and government enterprises</th>\n      <th>Federal civilian</th>\n      <th>Military</th>\n      <th>State and local</th>\n      <th>State government</th>\n      <th>Local government</th>\n    </tr>\n  </thead>\n  <tbody>\n    <tr>\n      <th>1</th>\n      <td>Adams</td>\n      <td>9585</td>\n      <td>7525</td>\n      <td>2060</td>\n      <td>483</td>\n      <td>1577</td>\n      <td>1368</td>\n      <td>8217</td>\n      <td>6439</td>\n      <td>450</td>\n      <td>...</td>\n      <td>(D)</td>\n      <td>53</td>\n      <td>474</td>\n      <td>363</td>\n      <td>1778</td>\n      <td>39</td>\n      <td>49</td>\n      <td>1690</td>\n      <td>74</td>\n      <td>1616</td>\n    </tr>\n    <tr>\n      <th>2</th>\n      <td>Asotin</td>\n      <td>9402</td>\n      <td>6988</td>\n      <td>2414</td>\n      <td>166</td>\n      <td>2248</td>\n      <td>219</td>\n      <td>9183</td>\n      <td>7914</td>\n      <td>(D)</td>\n      <td>...</td>\n      <td>1691</td>\n      <td>201</td>\n      <td>752</td>\n      <td>695</td>\n      <td>1269</td>\n      <td>51</td>\n      <td>57</td>\n      <td>1161</td>\n      <td>149</td>\n      <td>1012</td>\n    </tr>\n    <tr>\n      <th>3</th>\n      <td>Benton</td>\n      <td>113284</td>\n      <td>93867</td>\n      <td>19417</td>\n      <td>1349</td>\n      <td>18068</td>\n      <td>4932</td>\n      <td>108352</td>\n      <td>94589</td>\n      <td>(D)</td>\n      <td>...</td>\n      <td>13753</td>\n      <td>2382</td>\n      <td>8303</td>\n      <td>5259</td>\n      <td>13763</td>\n      <td>747</td>\n      <td>522</td>\n      <td>12494</td>\n      <td>1617</td>\n      <td>10877</td>\n    </tr>\n    <tr>\n      <th>4</th>\n      <td>Chelan</td>\n      <td>56065</td>\n      <td>45481</td>\n      <td>10584</td>\n      <td>715</td>\n      <td>9869</td>\n      <td>5161</td>\n      <td>50904</td>\n      <td>43529</td>\n      <td>(D)</td>\n      <td>...</td>\n      <td>7065</td>\n      <td>1124</td>\n      <td>5501</td>\n      <td>2355</td>\n      <td>7375</td>\n      <td>600</td>\n      <td>193</td>\n      <td>6582</td>\n      <td>1191</td>\n      <td>5391</td>\n    </tr>\n    <tr>\n      <th>5</th>\n      <td>Clallam</td>\n      <td>34952</td>\n      <td>25918</td>\n      <td>9034</td>\n      <td>446</td>\n      <td>8588</td>\n      <td>612</td>\n      <td>34340</td>\n      <td>25875</td>\n      <td>830</td>\n      <td>...</td>\n      <td>3460</td>\n      <td>752</td>\n      <td>3105</td>\n      <td>2469</td>\n      <td>8465</td>\n      <td>456</td>\n      <td>552</td>\n      <td>7457</td>\n      <td>1178</td>\n      <td>6279</td>\n    </tr>\n  </tbody>\n</table>\n<p>5 rows × 34 columns</p>\n</div>"
     },
     "metadata": {},
     "execution_count": 72
    }
   ],
   "source": [
    "for state in range(len(state_list)):\n",
    "    industry_dfs[state] = industry_dfs[state].drop(industry_dfs[state].index[0])\n",
    "    industry_dfs[state]['GeoName'] = industry_dfs[state]['GeoName'].apply(lambda a: a.split(', ')[0])\n",
    "industry_dfs[0].head()"
   ]
  },
  {
   "cell_type": "code",
   "execution_count": 73,
   "metadata": {},
   "outputs": [],
   "source": [
    "for state in range(len(state_list)):\n",
    "    per_capita_dfs[state] = per_capita_dfs[state].rename(columns={'location':'County', 'dollars_2018':'Per Capita Income 2018'})\n",
    "    travel_data_dfs[state] = travel_data_dfs[state].rename(columns={'sub_region_2':'County'})\n",
    "    industry_dfs[state] = industry_dfs[state].rename(columns={'GeoName':'County'})"
   ]
  },
  {
   "cell_type": "code",
   "execution_count": 79,
   "metadata": {},
   "outputs": [],
   "source": [
    "# Combine data into a single dataframe for each given statea\n",
    "combined_data_dfs = []\n",
    "for state in range(len(state_list)):\n",
    "    dataframes = [per_capita_dfs[state], travel_data_dfs[state], industry_dfs[state]]\n",
    "    # df = reduce(lambda df1,df2: pd.merge(df1,df2,on=['County'], how='left'), dataframes)\n",
    "    df = reduce(lambda df1, df2: pd.merge(left=df1, right=df2, left_on=['County'], right_on=['County']), dataframes)\n",
    "    combined_data_dfs.append(df)\n",
    "with open('combined_data_dfs.pickle', 'wb') as file:\n",
    "    pickle.dump(combined_data_dfs, file)"
   ]
  },
  {
   "cell_type": "markdown",
   "metadata": {},
   "source": [
    "## Regression"
   ]
  },
  {
   "cell_type": "code",
   "execution_count": null,
   "metadata": {},
   "outputs": [],
   "source": [
    "import pandas as pd\n",
    "import pickle"
   ]
  },
  {
   "cell_type": "code",
   "execution_count": 82,
   "metadata": {},
   "outputs": [],
   "source": [
    "state_list = ['Washington', 'Georgia', 'New Jersey', 'Utah']\n",
    "with open('combined_data_dfs.pickle', 'rb') as file:\n",
    "    combined_data_dfs = pickle.load(file)"
   ]
  },
  {
   "cell_type": "code",
   "execution_count": 83,
   "metadata": {},
   "outputs": [
    {
     "output_type": "execute_result",
     "data": {
      "text/plain": "    County  Per Capita Income 2018  2/15/2020  2/16/2020  2/17/2020  \\\n0   Asotin                   47104        0.0       -1.0      -29.0   \n1   Benton                   47465       -1.0       -1.0      -38.0   \n2   Chelan                   54763       -4.0        1.0      -29.0   \n3  Clallam                   46120       -2.0        1.0      -30.0   \n4    Clark                   53423       -4.0       -1.0      -27.0   \n\n   2/18/2020  2/19/2020  2/20/2020  2/21/2020  2/22/2020  ...  \\\n0        3.0        4.0        2.0        4.0        7.0  ...   \n1        2.0        1.0        0.0        1.0        0.0  ...   \n2        0.0        2.0        0.0        0.0       -1.0  ...   \n3        1.0        2.0        2.0        2.0        0.0  ...   \n4        1.0        2.0        2.0        3.0        1.0  ...   \n\n      Health care and social assistance  \\\n0                                  1691   \n1                                 13753   \n2                                  7065   \n3                                  3460   \n4                                 28560   \n\n      Arts, entertainment, and recreation     Accommodation and food services  \\\n0                                     201                                 752   \n1                                    2382                                8303   \n2                                    1124                                5501   \n3                                     752                                3105   \n4                                    5468                               15118   \n\n      Other services (except government and government enterprises)  \\\n0                                                695                  \n1                                               5259                  \n2                                               2355                  \n3                                               2469                  \n4                                              13118                  \n\n     Government and government enterprises     Federal civilian     Military  \\\n0                                     1269                   51           57   \n1                                    13763                  747          522   \n2                                     7375                  600          193   \n3                                     8465                  456          552   \n4                                    28533                 3482         1257   \n\n      State and local      State government      Local government  \n0                1161                   149                  1012  \n1               12494                  1617                 10877  \n2                6582                  1191                  5391  \n3                7457                  1178                  6279  \n4               23794                  4140                 19654  \n\n[5 rows x 92 columns]",
      "text/html": "<div>\n<style scoped>\n    .dataframe tbody tr th:only-of-type {\n        vertical-align: middle;\n    }\n\n    .dataframe tbody tr th {\n        vertical-align: top;\n    }\n\n    .dataframe thead th {\n        text-align: right;\n    }\n</style>\n<table border=\"1\" class=\"dataframe\">\n  <thead>\n    <tr style=\"text-align: right;\">\n      <th></th>\n      <th>County</th>\n      <th>Per Capita Income 2018</th>\n      <th>2/15/2020</th>\n      <th>2/16/2020</th>\n      <th>2/17/2020</th>\n      <th>2/18/2020</th>\n      <th>2/19/2020</th>\n      <th>2/20/2020</th>\n      <th>2/21/2020</th>\n      <th>2/22/2020</th>\n      <th>...</th>\n      <th>Health care and social assistance</th>\n      <th>Arts, entertainment, and recreation</th>\n      <th>Accommodation and food services</th>\n      <th>Other services (except government and government enterprises)</th>\n      <th>Government and government enterprises</th>\n      <th>Federal civilian</th>\n      <th>Military</th>\n      <th>State and local</th>\n      <th>State government</th>\n      <th>Local government</th>\n    </tr>\n  </thead>\n  <tbody>\n    <tr>\n      <th>0</th>\n      <td>Asotin</td>\n      <td>47104</td>\n      <td>0.0</td>\n      <td>-1.0</td>\n      <td>-29.0</td>\n      <td>3.0</td>\n      <td>4.0</td>\n      <td>2.0</td>\n      <td>4.0</td>\n      <td>7.0</td>\n      <td>...</td>\n      <td>1691</td>\n      <td>201</td>\n      <td>752</td>\n      <td>695</td>\n      <td>1269</td>\n      <td>51</td>\n      <td>57</td>\n      <td>1161</td>\n      <td>149</td>\n      <td>1012</td>\n    </tr>\n    <tr>\n      <th>1</th>\n      <td>Benton</td>\n      <td>47465</td>\n      <td>-1.0</td>\n      <td>-1.0</td>\n      <td>-38.0</td>\n      <td>2.0</td>\n      <td>1.0</td>\n      <td>0.0</td>\n      <td>1.0</td>\n      <td>0.0</td>\n      <td>...</td>\n      <td>13753</td>\n      <td>2382</td>\n      <td>8303</td>\n      <td>5259</td>\n      <td>13763</td>\n      <td>747</td>\n      <td>522</td>\n      <td>12494</td>\n      <td>1617</td>\n      <td>10877</td>\n    </tr>\n    <tr>\n      <th>2</th>\n      <td>Chelan</td>\n      <td>54763</td>\n      <td>-4.0</td>\n      <td>1.0</td>\n      <td>-29.0</td>\n      <td>0.0</td>\n      <td>2.0</td>\n      <td>0.0</td>\n      <td>0.0</td>\n      <td>-1.0</td>\n      <td>...</td>\n      <td>7065</td>\n      <td>1124</td>\n      <td>5501</td>\n      <td>2355</td>\n      <td>7375</td>\n      <td>600</td>\n      <td>193</td>\n      <td>6582</td>\n      <td>1191</td>\n      <td>5391</td>\n    </tr>\n    <tr>\n      <th>3</th>\n      <td>Clallam</td>\n      <td>46120</td>\n      <td>-2.0</td>\n      <td>1.0</td>\n      <td>-30.0</td>\n      <td>1.0</td>\n      <td>2.0</td>\n      <td>2.0</td>\n      <td>2.0</td>\n      <td>0.0</td>\n      <td>...</td>\n      <td>3460</td>\n      <td>752</td>\n      <td>3105</td>\n      <td>2469</td>\n      <td>8465</td>\n      <td>456</td>\n      <td>552</td>\n      <td>7457</td>\n      <td>1178</td>\n      <td>6279</td>\n    </tr>\n    <tr>\n      <th>4</th>\n      <td>Clark</td>\n      <td>53423</td>\n      <td>-4.0</td>\n      <td>-1.0</td>\n      <td>-27.0</td>\n      <td>1.0</td>\n      <td>2.0</td>\n      <td>2.0</td>\n      <td>3.0</td>\n      <td>1.0</td>\n      <td>...</td>\n      <td>28560</td>\n      <td>5468</td>\n      <td>15118</td>\n      <td>13118</td>\n      <td>28533</td>\n      <td>3482</td>\n      <td>1257</td>\n      <td>23794</td>\n      <td>4140</td>\n      <td>19654</td>\n    </tr>\n  </tbody>\n</table>\n<p>5 rows × 92 columns</p>\n</div>"
     },
     "metadata": {},
     "execution_count": 83
    }
   ],
   "source": [
    "combined_data_dfs[0].head() # Data for Washington Counties"
   ]
  },
  {
   "cell_type": "markdown",
   "metadata": {},
   "source": [
    "## Data from each County\n",
    "* Jobs per industry\n",
    "* Percentage change in travel to workplace\n",
    "* Average Income per county\n",
    "\n",
    "One dataframe for each state\n",
    "1 col for each industry and employment in each (for each county)\n",
    "1 col for each date for workplace percentage changes\n",
    "1 col for avergae income"
   ]
  },
  {
   "cell_type": "code",
   "execution_count": null,
   "metadata": {},
   "outputs": [],
   "source": []
  },
  {
   "cell_type": "code",
   "execution_count": 15,
   "metadata": {},
   "outputs": [
    {
     "output_type": "execute_result",
     "data": {
      "text/plain": "    GeoFIPS  GeoName  Region TableName  LineCode IndustryClassification  \\\n0   \"13000\"  Georgia     5.0  CAEMP25N      10.0                    ...   \n1   \"13000\"  Georgia     5.0  CAEMP25N      20.0                    ...   \n2   \"13000\"  Georgia     5.0  CAEMP25N      40.0                    ...   \n3   \"13000\"  Georgia     5.0  CAEMP25N      50.0                    ...   \n4   \"13000\"  Georgia     5.0  CAEMP25N      60.0                    ...   \n\n                           Description            Unit     2001     2002  ...  \\\n0    Total employment (number of jobs)  Number of jobs  4871814  4858288  ...   \n1           Wage and salary employment  Number of jobs  4122141  4075446  ...   \n2               Proprietors employment  Number of jobs   749673   782842  ...   \n3          Farm proprietors employment  Number of jobs    50229    44316  ...   \n4    Nonfarm proprietors employment 2/  Number of jobs   699444   738526  ...   \n\n      2009     2010     2011     2012     2013     2014     2015     2016  \\\n0  5247022  5211352  5325616  5384572  5496783  5670735  5832372  5971729   \n1  4074870  4028041  4066303  4123085  4199911  4319223  4438625  4552174   \n2  1172152  1183311  1259313  1261487  1296872  1351512  1393747  1419555   \n3    37859    37197    36666    35401    35501    35267    35464    36067   \n4  1134293  1146114  1222647  1226086  1261371  1316245  1358283  1383488   \n\n      2017     2018  \n0  6140776  6274450  \n1  4640639  4727591  \n2  1500137  1546859  \n3    35695    35007  \n4  1464442  1511852  \n\n[5 rows x 26 columns]",
      "text/html": "<div>\n<style scoped>\n    .dataframe tbody tr th:only-of-type {\n        vertical-align: middle;\n    }\n\n    .dataframe tbody tr th {\n        vertical-align: top;\n    }\n\n    .dataframe thead th {\n        text-align: right;\n    }\n</style>\n<table border=\"1\" class=\"dataframe\">\n  <thead>\n    <tr style=\"text-align: right;\">\n      <th></th>\n      <th>GeoFIPS</th>\n      <th>GeoName</th>\n      <th>Region</th>\n      <th>TableName</th>\n      <th>LineCode</th>\n      <th>IndustryClassification</th>\n      <th>Description</th>\n      <th>Unit</th>\n      <th>2001</th>\n      <th>2002</th>\n      <th>...</th>\n      <th>2009</th>\n      <th>2010</th>\n      <th>2011</th>\n      <th>2012</th>\n      <th>2013</th>\n      <th>2014</th>\n      <th>2015</th>\n      <th>2016</th>\n      <th>2017</th>\n      <th>2018</th>\n    </tr>\n  </thead>\n  <tbody>\n    <tr>\n      <th>0</th>\n      <td>\"13000\"</td>\n      <td>Georgia</td>\n      <td>5.0</td>\n      <td>CAEMP25N</td>\n      <td>10.0</td>\n      <td>...</td>\n      <td>Total employment (number of jobs)</td>\n      <td>Number of jobs</td>\n      <td>4871814</td>\n      <td>4858288</td>\n      <td>...</td>\n      <td>5247022</td>\n      <td>5211352</td>\n      <td>5325616</td>\n      <td>5384572</td>\n      <td>5496783</td>\n      <td>5670735</td>\n      <td>5832372</td>\n      <td>5971729</td>\n      <td>6140776</td>\n      <td>6274450</td>\n    </tr>\n    <tr>\n      <th>1</th>\n      <td>\"13000\"</td>\n      <td>Georgia</td>\n      <td>5.0</td>\n      <td>CAEMP25N</td>\n      <td>20.0</td>\n      <td>...</td>\n      <td>Wage and salary employment</td>\n      <td>Number of jobs</td>\n      <td>4122141</td>\n      <td>4075446</td>\n      <td>...</td>\n      <td>4074870</td>\n      <td>4028041</td>\n      <td>4066303</td>\n      <td>4123085</td>\n      <td>4199911</td>\n      <td>4319223</td>\n      <td>4438625</td>\n      <td>4552174</td>\n      <td>4640639</td>\n      <td>4727591</td>\n    </tr>\n    <tr>\n      <th>2</th>\n      <td>\"13000\"</td>\n      <td>Georgia</td>\n      <td>5.0</td>\n      <td>CAEMP25N</td>\n      <td>40.0</td>\n      <td>...</td>\n      <td>Proprietors employment</td>\n      <td>Number of jobs</td>\n      <td>749673</td>\n      <td>782842</td>\n      <td>...</td>\n      <td>1172152</td>\n      <td>1183311</td>\n      <td>1259313</td>\n      <td>1261487</td>\n      <td>1296872</td>\n      <td>1351512</td>\n      <td>1393747</td>\n      <td>1419555</td>\n      <td>1500137</td>\n      <td>1546859</td>\n    </tr>\n    <tr>\n      <th>3</th>\n      <td>\"13000\"</td>\n      <td>Georgia</td>\n      <td>5.0</td>\n      <td>CAEMP25N</td>\n      <td>50.0</td>\n      <td>...</td>\n      <td>Farm proprietors employment</td>\n      <td>Number of jobs</td>\n      <td>50229</td>\n      <td>44316</td>\n      <td>...</td>\n      <td>37859</td>\n      <td>37197</td>\n      <td>36666</td>\n      <td>35401</td>\n      <td>35501</td>\n      <td>35267</td>\n      <td>35464</td>\n      <td>36067</td>\n      <td>35695</td>\n      <td>35007</td>\n    </tr>\n    <tr>\n      <th>4</th>\n      <td>\"13000\"</td>\n      <td>Georgia</td>\n      <td>5.0</td>\n      <td>CAEMP25N</td>\n      <td>60.0</td>\n      <td>...</td>\n      <td>Nonfarm proprietors employment 2/</td>\n      <td>Number of jobs</td>\n      <td>699444</td>\n      <td>738526</td>\n      <td>...</td>\n      <td>1134293</td>\n      <td>1146114</td>\n      <td>1222647</td>\n      <td>1226086</td>\n      <td>1261371</td>\n      <td>1316245</td>\n      <td>1358283</td>\n      <td>1383488</td>\n      <td>1464442</td>\n      <td>1511852</td>\n    </tr>\n  </tbody>\n</table>\n<p>5 rows × 26 columns</p>\n</div>"
     },
     "metadata": {},
     "execution_count": 15
    }
   ],
   "source": [
    "industry_data.head()"
   ]
  },
  {
   "cell_type": "code",
   "execution_count": 9,
   "metadata": {},
   "outputs": [
    {
     "output_type": "execute_result",
     "data": {
      "text/plain": "     country_region_code country_region sub_region_1  sub_region_2       date  \\\n0                     US  United States      Georgia           NaN 2020-02-15   \n1                     US  United States      Georgia           NaN 2020-02-16   \n2                     US  United States      Georgia           NaN 2020-02-17   \n3                     US  United States      Georgia           NaN 2020-02-18   \n4                     US  United States      Georgia           NaN 2020-02-19   \n...                  ...            ...          ...           ...        ...   \n8203                  US  United States      Georgia  Worth County 2020-04-07   \n8204                  US  United States      Georgia  Worth County 2020-04-08   \n8205                  US  United States      Georgia  Worth County 2020-04-09   \n8206                  US  United States      Georgia  Worth County 2020-04-10   \n8207                  US  United States      Georgia  Worth County 2020-04-11   \n\n      retail_and_recreation_percent_change_from_baseline  \\\n0                                                   5.0    \n1                                                  -2.0    \n2                                                   4.0    \n3                                                  -4.0    \n4                                                   2.0    \n...                                                 ...    \n8203                                                NaN    \n8204                                                NaN    \n8205                                                NaN    \n8206                                                NaN    \n8207                                                NaN    \n\n      grocery_and_pharmacy_percent_change_from_baseline  \\\n0                                                   1.0   \n1                                                  -5.0   \n2                                                   1.0   \n3                                                  -5.0   \n4                                                   0.0   \n...                                                 ...   \n8203                                                NaN   \n8204                                                NaN   \n8205                                                NaN   \n8206                                                NaN   \n8207                                                NaN   \n\n      parks_percent_change_from_baseline  \\\n0                                   42.0   \n1                                  -19.0   \n2                                   24.0   \n3                                  -23.0   \n4                                    2.0   \n...                                  ...   \n8203                                 NaN   \n8204                                 NaN   \n8205                                 NaN   \n8206                                 NaN   \n8207                                 NaN   \n\n      transit_stations_percent_change_from_baseline  \\\n0                                               4.0   \n1                                              -5.0   \n2                                               0.0   \n3                                               1.0   \n4                                               3.0   \n...                                             ...   \n8203                                            NaN   \n8204                                            NaN   \n8205                                            NaN   \n8206                                            NaN   \n8207                                            NaN   \n\n      workplaces_percent_change_from_baseline  \\\n0                                         1.0   \n1                                        -3.0   \n2                                       -19.0   \n3                                        -5.0   \n4                                        -2.0   \n...                                       ...   \n8203                                    -43.0   \n8204                                    -45.0   \n8205                                    -45.0   \n8206                                    -47.0   \n8207                                    -33.0   \n\n      residential_percent_change_from_baseline  \n0                                         -1.0  \n1                                          1.0  \n2                                          4.0  \n3                                          3.0  \n4                                          1.0  \n...                                        ...  \n8203                                       NaN  \n8204                                       NaN  \n8205                                       NaN  \n8206                                       NaN  \n8207                                       NaN  \n\n[8208 rows x 11 columns]",
      "text/html": "<div>\n<style scoped>\n    .dataframe tbody tr th:only-of-type {\n        vertical-align: middle;\n    }\n\n    .dataframe tbody tr th {\n        vertical-align: top;\n    }\n\n    .dataframe thead th {\n        text-align: right;\n    }\n</style>\n<table border=\"1\" class=\"dataframe\">\n  <thead>\n    <tr style=\"text-align: right;\">\n      <th></th>\n      <th>country_region_code</th>\n      <th>country_region</th>\n      <th>sub_region_1</th>\n      <th>sub_region_2</th>\n      <th>date</th>\n      <th>retail_and_recreation_percent_change_from_baseline</th>\n      <th>grocery_and_pharmacy_percent_change_from_baseline</th>\n      <th>parks_percent_change_from_baseline</th>\n      <th>transit_stations_percent_change_from_baseline</th>\n      <th>workplaces_percent_change_from_baseline</th>\n      <th>residential_percent_change_from_baseline</th>\n    </tr>\n  </thead>\n  <tbody>\n    <tr>\n      <th>0</th>\n      <td>US</td>\n      <td>United States</td>\n      <td>Georgia</td>\n      <td>NaN</td>\n      <td>2020-02-15</td>\n      <td>5.0</td>\n      <td>1.0</td>\n      <td>42.0</td>\n      <td>4.0</td>\n      <td>1.0</td>\n      <td>-1.0</td>\n    </tr>\n    <tr>\n      <th>1</th>\n      <td>US</td>\n      <td>United States</td>\n      <td>Georgia</td>\n      <td>NaN</td>\n      <td>2020-02-16</td>\n      <td>-2.0</td>\n      <td>-5.0</td>\n      <td>-19.0</td>\n      <td>-5.0</td>\n      <td>-3.0</td>\n      <td>1.0</td>\n    </tr>\n    <tr>\n      <th>2</th>\n      <td>US</td>\n      <td>United States</td>\n      <td>Georgia</td>\n      <td>NaN</td>\n      <td>2020-02-17</td>\n      <td>4.0</td>\n      <td>1.0</td>\n      <td>24.0</td>\n      <td>0.0</td>\n      <td>-19.0</td>\n      <td>4.0</td>\n    </tr>\n    <tr>\n      <th>3</th>\n      <td>US</td>\n      <td>United States</td>\n      <td>Georgia</td>\n      <td>NaN</td>\n      <td>2020-02-18</td>\n      <td>-4.0</td>\n      <td>-5.0</td>\n      <td>-23.0</td>\n      <td>1.0</td>\n      <td>-5.0</td>\n      <td>3.0</td>\n    </tr>\n    <tr>\n      <th>4</th>\n      <td>US</td>\n      <td>United States</td>\n      <td>Georgia</td>\n      <td>NaN</td>\n      <td>2020-02-19</td>\n      <td>2.0</td>\n      <td>0.0</td>\n      <td>2.0</td>\n      <td>3.0</td>\n      <td>-2.0</td>\n      <td>1.0</td>\n    </tr>\n    <tr>\n      <th>...</th>\n      <td>...</td>\n      <td>...</td>\n      <td>...</td>\n      <td>...</td>\n      <td>...</td>\n      <td>...</td>\n      <td>...</td>\n      <td>...</td>\n      <td>...</td>\n      <td>...</td>\n      <td>...</td>\n    </tr>\n    <tr>\n      <th>8203</th>\n      <td>US</td>\n      <td>United States</td>\n      <td>Georgia</td>\n      <td>Worth County</td>\n      <td>2020-04-07</td>\n      <td>NaN</td>\n      <td>NaN</td>\n      <td>NaN</td>\n      <td>NaN</td>\n      <td>-43.0</td>\n      <td>NaN</td>\n    </tr>\n    <tr>\n      <th>8204</th>\n      <td>US</td>\n      <td>United States</td>\n      <td>Georgia</td>\n      <td>Worth County</td>\n      <td>2020-04-08</td>\n      <td>NaN</td>\n      <td>NaN</td>\n      <td>NaN</td>\n      <td>NaN</td>\n      <td>-45.0</td>\n      <td>NaN</td>\n    </tr>\n    <tr>\n      <th>8205</th>\n      <td>US</td>\n      <td>United States</td>\n      <td>Georgia</td>\n      <td>Worth County</td>\n      <td>2020-04-09</td>\n      <td>NaN</td>\n      <td>NaN</td>\n      <td>NaN</td>\n      <td>NaN</td>\n      <td>-45.0</td>\n      <td>NaN</td>\n    </tr>\n    <tr>\n      <th>8206</th>\n      <td>US</td>\n      <td>United States</td>\n      <td>Georgia</td>\n      <td>Worth County</td>\n      <td>2020-04-10</td>\n      <td>NaN</td>\n      <td>NaN</td>\n      <td>NaN</td>\n      <td>NaN</td>\n      <td>-47.0</td>\n      <td>NaN</td>\n    </tr>\n    <tr>\n      <th>8207</th>\n      <td>US</td>\n      <td>United States</td>\n      <td>Georgia</td>\n      <td>Worth County</td>\n      <td>2020-04-11</td>\n      <td>NaN</td>\n      <td>NaN</td>\n      <td>NaN</td>\n      <td>NaN</td>\n      <td>-33.0</td>\n      <td>NaN</td>\n    </tr>\n  </tbody>\n</table>\n<p>8208 rows × 11 columns</p>\n</div>"
     },
     "metadata": {},
     "execution_count": 9
    }
   ],
   "source": [
    "activity_data"
   ]
  },
  {
   "cell_type": "code",
   "execution_count": 16,
   "metadata": {},
   "outputs": [
    {
     "output_type": "execute_result",
     "data": {
      "text/plain": "      Unnamed: 0  dollars_2016  dollars_2017  dollars_2018 dollar_rank_2018  \\\n0  United States       49870.0       51885.0       54446.0               --   \n1        Alabama       39224.0       40467.0       42238.0               --   \n2        Autauga       39561.0       40450.0       41618.0               10   \n3        Baldwin       42907.0       43989.0       45596.0                4   \n4        Barbour       31595.0       33048.0       35199.0               41   \n\n   percent_change_2017  percent_change_2018 percent_rank_2018  \n0                  4.0                  4.9                --  \n1                  3.2                  4.4                --  \n2                  2.2                  2.9                61  \n3                  2.5                  3.7                55  \n4                  4.6                  6.5                 2  ",
      "text/html": "<div>\n<style scoped>\n    .dataframe tbody tr th:only-of-type {\n        vertical-align: middle;\n    }\n\n    .dataframe tbody tr th {\n        vertical-align: top;\n    }\n\n    .dataframe thead th {\n        text-align: right;\n    }\n</style>\n<table border=\"1\" class=\"dataframe\">\n  <thead>\n    <tr style=\"text-align: right;\">\n      <th></th>\n      <th>Unnamed: 0</th>\n      <th>dollars_2016</th>\n      <th>dollars_2017</th>\n      <th>dollars_2018</th>\n      <th>dollar_rank_2018</th>\n      <th>percent_change_2017</th>\n      <th>percent_change_2018</th>\n      <th>percent_rank_2018</th>\n    </tr>\n  </thead>\n  <tbody>\n    <tr>\n      <th>0</th>\n      <td>United States</td>\n      <td>49870.0</td>\n      <td>51885.0</td>\n      <td>54446.0</td>\n      <td>--</td>\n      <td>4.0</td>\n      <td>4.9</td>\n      <td>--</td>\n    </tr>\n    <tr>\n      <th>1</th>\n      <td>Alabama</td>\n      <td>39224.0</td>\n      <td>40467.0</td>\n      <td>42238.0</td>\n      <td>--</td>\n      <td>3.2</td>\n      <td>4.4</td>\n      <td>--</td>\n    </tr>\n    <tr>\n      <th>2</th>\n      <td>Autauga</td>\n      <td>39561.0</td>\n      <td>40450.0</td>\n      <td>41618.0</td>\n      <td>10</td>\n      <td>2.2</td>\n      <td>2.9</td>\n      <td>61</td>\n    </tr>\n    <tr>\n      <th>3</th>\n      <td>Baldwin</td>\n      <td>42907.0</td>\n      <td>43989.0</td>\n      <td>45596.0</td>\n      <td>4</td>\n      <td>2.5</td>\n      <td>3.7</td>\n      <td>55</td>\n    </tr>\n    <tr>\n      <th>4</th>\n      <td>Barbour</td>\n      <td>31595.0</td>\n      <td>33048.0</td>\n      <td>35199.0</td>\n      <td>41</td>\n      <td>4.6</td>\n      <td>6.5</td>\n      <td>2</td>\n    </tr>\n  </tbody>\n</table>\n</div>"
     },
     "metadata": {},
     "execution_count": 16
    }
   ],
   "source": [
    "per_capita_data.head()"
   ]
  },
  {
   "cell_type": "code",
   "execution_count": null,
   "metadata": {},
   "outputs": [],
   "source": []
  }
 ],
 "metadata": {
  "language_info": {
   "codemirror_mode": {
    "name": "ipython",
    "version": 3
   },
   "file_extension": ".py",
   "mimetype": "text/x-python",
   "name": "python",
   "nbconvert_exporter": "python",
   "pygments_lexer": "ipython3",
   "version": "3.7.3-final"
  },
  "orig_nbformat": 2,
  "kernelspec": {
   "name": "python37364bit19303f81052b4846ae9ed3e254df4422",
   "display_name": "Python 3.7.3 64-bit"
  }
 },
 "nbformat": 4,
 "nbformat_minor": 2
}