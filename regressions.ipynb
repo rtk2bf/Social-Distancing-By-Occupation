{
 "cells": [
  {
   "cell_type": "code",
   "execution_count": 117,
   "metadata": {},
   "outputs": [],
   "source": [
    "import pandas as pd\n",
    "import numpy as np\n",
    "from sklearn import linear_model as lm\n",
    "import pickle"
   ]
  },
  {
   "cell_type": "markdown",
   "metadata": {},
   "source": [
    "We can open the pickle file to get pandas dataframes that contain the data we need for the states we have chosen to examine."
   ]
  },
  {
   "cell_type": "code",
   "execution_count": 118,
   "metadata": {},
   "outputs": [],
   "source": [
    "state_list = ['Washington', 'Georgia', 'New Jersey', 'Utah']\n",
    "with open('combined_data_dfs.pickle', 'rb') as file:\n",
    "    combined_data_dfs = pickle.load(file)"
   ]
  },
  {
   "cell_type": "markdown",
   "metadata": {},
   "source": [
    "Name each pandas dataframe for its state"
   ]
  },
  {
   "cell_type": "code",
   "execution_count": 119,
   "metadata": {},
   "outputs": [],
   "source": [
    "utah=pd.DataFrame(combined_data_dfs[3])\n",
    "nj=pd.DataFrame(combined_data_dfs[2])\n",
    "ga=pd.DataFrame(combined_data_dfs[1])\n",
    "was=pd.DataFrame(combined_data_dfs[0])"
   ]
  },
  {
   "cell_type": "markdown",
   "metadata": {},
   "source": [
    "Calculate the mean distancing deviation in the google data for each month. This creates a mean for every county in the state."
   ]
  },
  {
   "cell_type": "code",
   "execution_count": 120,
   "metadata": {},
   "outputs": [],
   "source": [
    "feb_distance=[0]*(len(utah[\"County\"]))\n",
    "for x in range(0,20):\n",
    "        feb_distance[x]=np.mean(utah.iloc[x,2:17])\n",
    "        \n",
    "mar_distance=[0]*(len(utah[\"County\"]))\n",
    "for x in range(0,20):\n",
    "        mar_distance[x]=np.mean(utah.iloc[x,17:48])\n",
    "        \n",
    "apr_distance=[0]*(len(utah[\"County\"]))\n",
    "for x in range(0,20):\n",
    "        apr_distance[x]=np.mean(utah.iloc[x,48:59])"
   ]
  },
  {
   "cell_type": "markdown",
   "metadata": {},
   "source": [
    "Certain counties have employment in industries marked as (D) which means the number is confidential. Larger numbers\n",
    "are estimated but smaller ones are not. We simply zero out the field to impute the data. We also append our distance averages to the dataframe."
   ]
  },
  {
   "cell_type": "code",
   "execution_count": 122,
   "metadata": {},
   "outputs": [],
   "source": [
    "for x in range(0,20):\n",
    "    if utah.iloc[x,64]==\"(D)\":\n",
    "        utah.iloc[x,64]=0\n",
    "\n",
    "for x in range(0,20):\n",
    "    for n in range(67,92):\n",
    "        if utah.iloc[x,n]==\"(D)\":\n",
    "            utah.iloc[x,n]=0\n",
    "\n",
    "utah['f_dist']=feb_distance\n",
    "utah['m_dist']=mar_distance\n",
    "utah['a_dist']=apr_distance"
   ]
  },
  {
   "cell_type": "markdown",
   "metadata": {},
   "source": [
    "We create measures of percentages for nonfarm jobs and industries hit hard by coronavirus (accomodations, entertainment, transportation, retail)."
   ]
  },
  {
   "cell_type": "code",
   "execution_count": 123,
   "metadata": {},
   "outputs": [],
   "source": [
    "nonfarm_pct=[0]*(len(utah[\"County\"]))\n",
    "covid_hit=[0]*(len(utah[\"County\"]))\n",
    "for x in range(0,20):\n",
    "        nonfarm_pct[x]=float(utah.iloc[x,65])/float(utah.iloc[x,59])\n",
    "        covid_hit[x]=(float(utah.iloc[x,83])+float(utah.iloc[x,84])+float(utah.iloc[x,68])+float(utah.iloc[x,73])+float(utah.iloc[x,74]))/float(utah.iloc[x,59])\n",
    "utah['nfarm']=nonfarm_pct\n",
    "utah['hosp']=covid_hit"
   ]
  },
  {
   "cell_type": "markdown",
   "metadata": {},
   "source": [
    "Exo_list is the contains the index of the independent variable that are used in the regression."
   ]
  },
  {
   "cell_type": "code",
   "execution_count": 125,
   "metadata": {},
   "outputs": [],
   "source": [
    "exo_list=list()\n",
    "\n",
    "exo_list.append(1)#Income\n",
    "exo_list.append(95)#Nonfarm employment\n",
    "exo_list.append(96)#Covid affected employment\n"
   ]
  },
  {
   "cell_type": "markdown",
   "metadata": {},
   "source": [
    "In order to use Scikit's linear regression model, we need to convert the dataframe to a numpy array and change the types\n",
    "to floats from the original strings."
   ]
  },
  {
   "cell_type": "code",
   "execution_count": 126,
   "metadata": {},
   "outputs": [],
   "source": [
    "Y=utah['a_dist'].to_numpy()\n",
    "X=utah.iloc[:,exo_list].to_numpy()\n",
    "for i in range(0, len(Y)): \n",
    "    Y[i] = float(Y[i])\n",
    "for i in range(0,len(X[:,1])):\n",
    "    for n in range(0,len(X[1,:])):\n",
    "        X[i,n]=float(X[i,n])"
   ]
  },
  {
   "cell_type": "markdown",
   "metadata": {},
   "source": [
    "Our regression model is as follows:\n",
    "\n",
    "percent change from baseline work trips = b_0 + b_1 county income (dollars) + b_2 percent nonfarm employment in county + b_3 percent employment in industries with heavy covid impact.\n",
    "\n",
    "The ouput from the regression includes the R-squared figure and the coefficients of regression."
   ]
  },
  {
   "cell_type": "code",
   "execution_count": 127,
   "metadata": {},
   "outputs": [
    {
     "name": "stdout",
     "output_type": "stream",
     "text": [
      "0.712052348811743\n"
     ]
    },
    {
     "data": {
      "text/plain": [
       "array([-3.24337313e-04, -1.16951612e+02,  1.93306095e+01])"
      ]
     },
     "execution_count": 127,
     "metadata": {},
     "output_type": "execute_result"
    }
   ],
   "source": [
    "utah_reg = lm.LinearRegression().fit(X, Y)\n",
    "print(utah_reg.score(X,Y))\n",
    "utah_reg.coef_"
   ]
  },
  {
   "cell_type": "markdown",
   "metadata": {},
   "source": [
    "Repeat Process for New Jersey"
   ]
  },
  {
   "cell_type": "code",
   "execution_count": 128,
   "metadata": {},
   "outputs": [],
   "source": [
    "feb_distance=[0]*(len(nj[\"County\"]))\n",
    "for x in range(0,19):\n",
    "        feb_distance[x]=np.mean(nj.iloc[x,2:17])\n",
    "        \n",
    "mar_distance=[0]*(len(nj[\"County\"]))\n",
    "for x in range(0,19):\n",
    "        mar_distance[x]=np.mean(nj.iloc[x,17:48])\n",
    "        \n",
    "apr_distance=[0]*(len(nj[\"County\"]))\n",
    "for x in range(0,19):\n",
    "        apr_distance[x]=np.mean(nj.iloc[x,48:59])\n",
    "\n",
    "for x in range(0,19):\n",
    "    if nj.iloc[x,64]==\"(D)\":\n",
    "        nj.iloc[x,64]=0\n",
    "\n",
    "for x in range(0,19):\n",
    "    for n in range(67,92):\n",
    "        if nj.iloc[x,n]==\"(D)\":\n",
    "            nj.iloc[x,n]=0\n",
    "\n",
    "nj['f_dist']=feb_distance\n",
    "nj['m_dist']=mar_distance\n",
    "nj['a_dist']=apr_distance\n",
    "\n",
    "nonfarm_pct=[0]*(len(nj[\"County\"]))\n",
    "covid_hit=[0]*(len(nj[\"County\"]))\n",
    "for x in range(0,19):\n",
    "        nonfarm_pct[x]=float(nj.iloc[x,65])/float(nj.iloc[x,59])\n",
    "        covid_hit[x]=(float(nj.iloc[x,83])+float(nj.iloc[x,84])+float(nj.iloc[x,68])+float(nj.iloc[x,73])+float(nj.iloc[x,74]))/float(nj.iloc[x,59])\n",
    "nj['nfarm']=nonfarm_pct\n",
    "nj['hosp']=covid_hit"
   ]
  },
  {
   "cell_type": "code",
   "execution_count": 129,
   "metadata": {},
   "outputs": [],
   "source": [
    "Y=nj['a_dist'].to_numpy()\n",
    "X=nj.iloc[:,exo_list].to_numpy()\n",
    "for i in range(0, len(Y)): \n",
    "    Y[i] = float(Y[i])\n",
    "for i in range(0,len(X[:,1])):\n",
    "    for n in range(0,len(X[1,:])):\n",
    "        X[i,n]=float(X[i,n])"
   ]
  },
  {
   "cell_type": "code",
   "execution_count": 130,
   "metadata": {},
   "outputs": [
    {
     "name": "stdout",
     "output_type": "stream",
     "text": [
      "0.7609575230333342\n"
     ]
    },
    {
     "data": {
      "text/plain": [
       "array([-2.17762575e-04, -3.14017457e+02, -2.88669379e+01])"
      ]
     },
     "execution_count": 130,
     "metadata": {},
     "output_type": "execute_result"
    }
   ],
   "source": [
    "nj_reg = LinearRegression().fit(X, Y)\n",
    "print(nj_reg.score(X,Y))\n",
    "nj_reg.coef_"
   ]
  },
  {
   "cell_type": "markdown",
   "metadata": {},
   "source": [
    "Repeat Process for Georgia"
   ]
  },
  {
   "cell_type": "code",
   "execution_count": 131,
   "metadata": {},
   "outputs": [],
   "source": [
    "feb_distance=[0]*(len(ga[\"County\"]))\n",
    "for x in range(0,138):\n",
    "        feb_distance[x]=np.mean(ga.iloc[x,2:17])\n",
    "        \n",
    "mar_distance=[0]*(len(ga[\"County\"]))\n",
    "for x in range(0,138):\n",
    "        mar_distance[x]=np.mean(ga.iloc[x,17:48])\n",
    "        \n",
    "apr_distance=[0]*(len(ga[\"County\"]))\n",
    "for x in range(0,138):\n",
    "        apr_distance[x]=np.mean(ga.iloc[x,48:59])\n",
    "\n",
    "for x in range(0,138):\n",
    "    if ga.iloc[x,64]==\"(D)\":\n",
    "        ga.iloc[x,64]=0\n",
    "\n",
    "for x in range(0,138):\n",
    "    for n in range(67,92):\n",
    "        if ga.iloc[x,n]==\"(D)\":\n",
    "            ga.iloc[x,n]=0\n",
    "\n",
    "ga['f_dist']=feb_distance\n",
    "ga['m_dist']=mar_distance\n",
    "ga['a_dist']=apr_distance\n",
    "\n",
    "nonfarm_pct=[0]*(len(ga[\"County\"]))\n",
    "covid_hit=[0]*(len(ga[\"County\"]))\n",
    "for x in range(0,138):\n",
    "        nonfarm_pct[x]=float(ga.iloc[x,65])/float(ga.iloc[x,59])\n",
    "        covid_hit[x]=(float(ga.iloc[x,83])+float(ga.iloc[x,84])+float(ga.iloc[x,68])+float(ga.iloc[x,73])+float(ga.iloc[x,74]))/float(ga.iloc[x,59])\n",
    "ga['nfarm']=nonfarm_pct\n",
    "ga['hosp']=covid_hit"
   ]
  },
  {
   "cell_type": "code",
   "execution_count": 132,
   "metadata": {},
   "outputs": [],
   "source": [
    "Y=ga['a_dist'].to_numpy()\n",
    "X=ga.iloc[:,exo_list].to_numpy()\n",
    "for i in range(0, len(Y)): \n",
    "    Y[i] = float(Y[i])\n",
    "for i in range(0,len(X[:,1])):\n",
    "    for n in range(0,len(X[1,:])):\n",
    "        X[i,n]=float(X[i,n])"
   ]
  },
  {
   "cell_type": "code",
   "execution_count": 136,
   "metadata": {},
   "outputs": [
    {
     "name": "stdout",
     "output_type": "stream",
     "text": [
      "0.44789574626055306\n"
     ]
    },
    {
     "data": {
      "text/plain": [
       "array([-3.40252555e-04, -5.89051461e+01, -2.33211159e+00])"
      ]
     },
     "execution_count": 136,
     "metadata": {},
     "output_type": "execute_result"
    }
   ],
   "source": [
    "ga_reg = LinearRegression().fit(X, Y)\n",
    "print(ga_reg.score(X,Y))\n",
    "ga_reg.coef_"
   ]
  },
  {
   "cell_type": "markdown",
   "metadata": {},
   "source": [
    "Repeat Process for Washington"
   ]
  },
  {
   "cell_type": "code",
   "execution_count": 138,
   "metadata": {},
   "outputs": [],
   "source": [
    "feb_distance=[0]*(len(was[\"County\"]))\n",
    "for x in range(0,29):\n",
    "        feb_distance[x]=np.mean(was.iloc[x,2:17])\n",
    "        \n",
    "mar_distance=[0]*(len(was[\"County\"]))\n",
    "for x in range(0,29):\n",
    "        mar_distance[x]=np.mean(was.iloc[x,17:48])\n",
    "        \n",
    "apr_distance=[0]*(len(was[\"County\"]))\n",
    "for x in range(0,29):\n",
    "        apr_distance[x]=np.mean(was.iloc[x,48:59])\n",
    "\n",
    "for x in range(0,29):\n",
    "    if was.iloc[x,64]==\"(D)\":\n",
    "        was.iloc[x,64]=0\n",
    "\n",
    "for x in range(0,29):\n",
    "    for n in range(67,92):\n",
    "        if was.iloc[x,n]==\"(D)\":\n",
    "            was.iloc[x,n]=0\n",
    "\n",
    "was['f_dist']=feb_distance\n",
    "was['m_dist']=mar_distance\n",
    "was['a_dist']=apr_distance\n",
    "\n",
    "nonfarm_pct=[0]*(len(was[\"County\"]))\n",
    "covid_hit=[0]*(len(was[\"County\"]))\n",
    "for x in range(0,29):\n",
    "        nonfarm_pct[x]=float(was.iloc[x,65])/float(was.iloc[x,59])\n",
    "        covid_hit[x]=(float(was.iloc[x,83])+float(was.iloc[x,84])+float(was.iloc[x,68])+float(was.iloc[x,73])+float(was.iloc[x,74]))/float(was.iloc[x,59])\n",
    "was['nfarm']=nonfarm_pct\n",
    "was['hosp']=covid_hit"
   ]
  },
  {
   "cell_type": "code",
   "execution_count": 139,
   "metadata": {},
   "outputs": [],
   "source": [
    "Y=was['a_dist'].to_numpy()\n",
    "X=was.iloc[:,exo_list].to_numpy()\n",
    "for i in range(0, len(Y)): \n",
    "    Y[i] = float(Y[i])\n",
    "for i in range(0,len(X[:,1])):\n",
    "    for n in range(0,len(X[1,:])):\n",
    "        X[i,n]=float(X[i,n])"
   ]
  },
  {
   "cell_type": "code",
   "execution_count": 141,
   "metadata": {},
   "outputs": [
    {
     "name": "stdout",
     "output_type": "stream",
     "text": [
      "0.5046112183930104\n"
     ]
    },
    {
     "data": {
      "text/plain": [
       "array([-3.67987552e-04, -2.62518864e+01, -8.52556358e+00])"
      ]
     },
     "execution_count": 141,
     "metadata": {},
     "output_type": "execute_result"
    }
   ],
   "source": [
    "was_reg = LinearRegression().fit(X, Y)\n",
    "print(was_reg.score(X,Y))\n",
    "was_reg.coef_"
   ]
  }
 ],
 "metadata": {
  "kernelspec": {
   "display_name": "Python 3",
   "language": "python",
   "name": "python3"
  },
  "language_info": {
   "codemirror_mode": {
    "name": "ipython",
    "version": 3
   },
   "file_extension": ".py",
   "mimetype": "text/x-python",
   "name": "python",
   "nbconvert_exporter": "python",
   "pygments_lexer": "ipython3",
   "version": "3.7.4"
  }
 },
 "nbformat": 4,
 "nbformat_minor": 2
}
